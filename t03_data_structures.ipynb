{
 "cells": [
  {
   "cell_type": "markdown",
   "id": "a0d2336d",
   "metadata": {},
   "source": [
    "# <u> Tutorial 3: Data Structures </u>\n",
    "\n",
    "<br> This series of tutorials is intended to teach the basics of Python for scientific programming. These tutorials were written by Sanjana Kulkarni, an intern in the High Throughput Analytics group during summer 2021. \n",
    "\n",
    "## Lists and Arrays"
   ]
  },
  {
   "cell_type": "markdown",
   "id": "90c5b380",
   "metadata": {},
   "source": [
    "Lists, arrays, and dictionaries are structures that hold many elements of data. Lists are denoted by brackets, and you can place different data types (integer, float, string) into the same list. Place objects in a list and store them to a new variable. "
   ]
  },
  {
   "cell_type": "code",
   "execution_count": 2,
   "id": "113f2c9a",
   "metadata": {},
   "outputs": [],
   "source": [
    "my_list = [1, 2, \"apple\", \"banana\", 4.5]"
   ]
  },
  {
   "cell_type": "markdown",
   "id": "e09a641e",
   "metadata": {},
   "source": [
    "You can also make nested lists, in which an element of a list is another list."
   ]
  },
  {
   "cell_type": "code",
   "execution_count": 3,
   "id": "4b6fe7f5",
   "metadata": {},
   "outputs": [],
   "source": [
    "nested_lst = [1, 2, 3, [4, 5, 6], 8]"
   ]
  },
  {
   "cell_type": "markdown",
   "id": "a8941cdf",
   "metadata": {},
   "source": [
    "An <b>array</b> is like a list, but has some extra versatility. Arrays are defined using a Python package called <a href=\"https://numpy.org/\" target=\"_blank\"><b>numpy</b></a>, which is used extensively. To import a package, use the statement `import desired_package as abbreviation`, where `desired_package` is the package name and `abbreviation` is a short form to refer to the package with. \n",
    "\n",
    "We can create an array just like we did the list. However, if the data types are different, then numpy will coerce all of the objects to be of the same type. "
   ]
  },
  {
   "cell_type": "code",
   "execution_count": 4,
   "id": "a24ea851",
   "metadata": {},
   "outputs": [],
   "source": [
    "# import numpy first with the abbreviation np\n",
    "import numpy as np\n",
    "\n",
    "# define the array. array is a method of numpy\n",
    "my_array = np.array([1, 2, \"apple\", \"banana\", 4.5])"
   ]
  },
  {
   "cell_type": "code",
   "execution_count": 5,
   "id": "aebaa6e0",
   "metadata": {},
   "outputs": [
    {
     "data": {
      "text/plain": [
       "array(['1', '2', 'apple', 'banana', '4.5'], dtype='<U32')"
      ]
     },
     "execution_count": 5,
     "metadata": {},
     "output_type": "execute_result"
    }
   ],
   "source": [
    "my_array"
   ]
  },
  {
   "cell_type": "markdown",
   "id": "4f145125",
   "metadata": {},
   "source": [
    "See how all of the elements in `my_array` became strings, unlike in the list. Numpy arrays are optimized for efficient calculations. The calculations are implemented in C in the package, so they are more efficient than writing the same calculations in Python."
   ]
  },
  {
   "cell_type": "code",
   "execution_count": 6,
   "id": "9c06f022",
   "metadata": {},
   "outputs": [
    {
     "data": {
      "text/plain": [
       "array([11, 11, 11, 11])"
      ]
     },
     "execution_count": 6,
     "metadata": {},
     "output_type": "execute_result"
    }
   ],
   "source": [
    "array_1 = np.array([1, 2, 3, 4])\n",
    "array_2 = np.array([10, 9, 8, 7])\n",
    "\n",
    "array_1 + array_2"
   ]
  },
  {
   "cell_type": "markdown",
   "id": "4c99d793",
   "metadata": {},
   "source": [
    "Numpy performs the calculations element-wise and would do the same if we changed the operation between the two arrays. "
   ]
  },
  {
   "cell_type": "code",
   "execution_count": 7,
   "id": "862c7036",
   "metadata": {},
   "outputs": [
    {
     "data": {
      "text/plain": [
       "array([10, 18, 24, 28])"
      ]
     },
     "execution_count": 7,
     "metadata": {},
     "output_type": "execute_result"
    }
   ],
   "source": [
    "array_1 * array_2"
   ]
  },
  {
   "cell_type": "markdown",
   "id": "8880f746",
   "metadata": {},
   "source": [
    "Lists can not be multiplied in this way. You can multiply a list by a number, but this copies the list by the given number, rather than multiply the elements. "
   ]
  },
  {
   "cell_type": "code",
   "execution_count": 8,
   "id": "1d1d5abd",
   "metadata": {},
   "outputs": [
    {
     "data": {
      "text/plain": [
       "[1, 3, 4, 1, 3, 4, 1, 3, 4]"
      ]
     },
     "execution_count": 8,
     "metadata": {},
     "output_type": "execute_result"
    }
   ],
   "source": [
    "# copies the given list 3 times and makes a new list\n",
    "[1, 3, 4] * 3"
   ]
  },
  {
   "cell_type": "markdown",
   "id": "adbebc1e",
   "metadata": {},
   "source": [
    "Numpy has some other handy functions like making an array of only ones or zeros. The argument to these functions is the number of ones or zeros that should be in the array. "
   ]
  },
  {
   "cell_type": "code",
   "execution_count": 9,
   "id": "9414fc1b",
   "metadata": {},
   "outputs": [
    {
     "data": {
      "text/plain": [
       "array([0., 0., 0., 0., 0.])"
      ]
     },
     "execution_count": 9,
     "metadata": {},
     "output_type": "execute_result"
    }
   ],
   "source": [
    "np.zeros(5)"
   ]
  },
  {
   "cell_type": "code",
   "execution_count": 10,
   "id": "5983f860",
   "metadata": {},
   "outputs": [
    {
     "data": {
      "text/plain": [
       "array([1., 1., 1., 1., 1., 1., 1.])"
      ]
     },
     "execution_count": 10,
     "metadata": {},
     "output_type": "execute_result"
    }
   ],
   "source": [
    "np.ones(7)"
   ]
  },
  {
   "cell_type": "markdown",
   "id": "ab7466ac",
   "metadata": {},
   "source": [
    "## Tuples\n",
    "\n",
    "Tuples are another type of data structure. They are denoted by parentheses, and unlike lists and arrays, they are <b>immutable</b>. If you create a list or array, you can change elements of them without a problem. Tuples, however, can not be changed after they are created. You can only generate a new tuple."
   ]
  },
  {
   "cell_type": "code",
   "execution_count": 11,
   "id": "9c6f19ae",
   "metadata": {},
   "outputs": [],
   "source": [
    "my_tuple = (3, 5, 10, 34)"
   ]
  },
  {
   "cell_type": "markdown",
   "id": "fc54d946",
   "metadata": {},
   "source": [
    "Like lists, tuples can contain elements of different types. You can store strings, integers, and floats into the same tuple. Tuples are useful for storing paired data, like x, y, and z coordinates for a point. Often, you can pass a list of tuples into a plotting function. "
   ]
  },
  {
   "cell_type": "markdown",
   "id": "8ec9dce1",
   "metadata": {},
   "source": [
    "## Slicing Data Structures"
   ]
  },
  {
   "cell_type": "markdown",
   "id": "fe454ce7",
   "metadata": {},
   "source": [
    "To access the individual elements of a list, tuple, or array, we use brackets and the index of the element. However, Python utilizes zero-indexing. Therefore, the first element is index 0, the second is index 1, and so on and so forth. We can return to the arrays and list defined above. "
   ]
  },
  {
   "cell_type": "code",
   "execution_count": 12,
   "id": "81497ff1",
   "metadata": {},
   "outputs": [
    {
     "data": {
      "text/plain": [
       "4"
      ]
     },
     "execution_count": 12,
     "metadata": {},
     "output_type": "execute_result"
    }
   ],
   "source": [
    "# the last element of array_1, which has length 4\n",
    "array_1[3]"
   ]
  },
  {
   "cell_type": "markdown",
   "id": "23930ae3",
   "metadata": {},
   "source": [
    "Indexing can also be done in the reverse direction. The last element of a list/tuple/array has index -1, the penultimate element has index -2, and so on and so forth. So the second element of `array_1`, which has length 4, can also be accessed using the index <b>-3</b>. See how in the following code, both positive and negative indexing extract the same value from the array. "
   ]
  },
  {
   "cell_type": "code",
   "execution_count": 13,
   "id": "db5d69a4",
   "metadata": {},
   "outputs": [
    {
     "data": {
      "text/plain": [
       "(2, 2)"
      ]
     },
     "execution_count": 13,
     "metadata": {},
     "output_type": "execute_result"
    }
   ],
   "source": [
    "array_1[1], array_1[-3]"
   ]
  },
  {
   "cell_type": "markdown",
   "id": "d68a38d5",
   "metadata": {},
   "source": [
    "A range of elements can be sliced from a list, tuple or array. The start and end indices of the desired elements are separated by a colon. NOTE: the first index is inclusive, but the last index is exclusive."
   ]
  },
  {
   "cell_type": "code",
   "execution_count": 68,
   "id": "67217c20",
   "metadata": {},
   "outputs": [
    {
     "data": {
      "text/plain": [
       "array([3, 4])"
      ]
     },
     "execution_count": 68,
     "metadata": {},
     "output_type": "execute_result"
    }
   ],
   "source": [
    "# extract values at indices 2 and 3\n",
    "array_1[2:4]"
   ]
  },
  {
   "cell_type": "markdown",
   "id": "3cd3c7ca",
   "metadata": {},
   "source": [
    "If you don't provide a starting index, the default is 0, and if you don't provide an ending index, the default is the end."
   ]
  },
  {
   "cell_type": "code",
   "execution_count": 69,
   "id": "289e0af0",
   "metadata": {},
   "outputs": [
    {
     "data": {
      "text/plain": [
       "array([1, 2])"
      ]
     },
     "execution_count": 69,
     "metadata": {},
     "output_type": "execute_result"
    }
   ],
   "source": [
    "# extract values at indices 0 and 1\n",
    "array_1[:2]"
   ]
  },
  {
   "cell_type": "code",
   "execution_count": 70,
   "id": "76053360",
   "metadata": {},
   "outputs": [
    {
     "data": {
      "text/plain": [
       "array([3, 4])"
      ]
     },
     "execution_count": 70,
     "metadata": {},
     "output_type": "execute_result"
    }
   ],
   "source": [
    "# extract values from indices 2 to the end\n",
    "array_1[2:]"
   ]
  },
  {
   "cell_type": "markdown",
   "id": "f3a85419",
   "metadata": {},
   "source": [
    "## Dictionaries"
   ]
  },
  {
   "cell_type": "markdown",
   "id": "1a20493c",
   "metadata": {},
   "source": [
    "Dictionaries are somewhat different because they store data with labels. If you input just the label, you will get the corresponding data. Duplicate labels are not allowed. Dictionaries are denoted by curly braces with the following syntax:\n",
    "\n",
    "`{'Label 1': data_1, 'Label 2': data_2, 'Label 3': data_3}`"
   ]
  },
  {
   "cell_type": "code",
   "execution_count": 44,
   "id": "a312afd7",
   "metadata": {},
   "outputs": [],
   "source": [
    "my_dict = {'2015': [12, 67, 34, 13, 95, 82], '2016': [23, 87, 93, 56, 70, 104], '2017': [349, 654, 349, 567, 186, 240]}"
   ]
  },
  {
   "cell_type": "markdown",
   "id": "d650a0a8",
   "metadata": {},
   "source": [
    "Elements within a dictionary are extracted not by indexing by number, but by name. To get the values associated with year 2016, we use the exact label. "
   ]
  },
  {
   "cell_type": "code",
   "execution_count": 45,
   "id": "9efcde4b",
   "metadata": {},
   "outputs": [
    {
     "data": {
      "text/plain": [
       "[23, 87, 93, 56, 70, 104]"
      ]
     },
     "execution_count": 45,
     "metadata": {},
     "output_type": "execute_result"
    }
   ],
   "source": [
    "# get 2016 values\n",
    "my_dict['2016']"
   ]
  },
  {
   "cell_type": "markdown",
   "id": "4b581f1e",
   "metadata": {},
   "source": [
    "You can access all of the elements of a dictionary using a few <b>methods</b>. Methods are functions that follow a `.` symbol after the data structure you are accessing. For dictionaries, the most important methods are shown below:\n",
    "\n",
    "1. `.keys()`: extract all labels (keys)\n",
    "2. `.values()`: extract all values\n",
    "3. `.items()`: extract all labels and values\n",
    "\n",
    "These methods return array-like structures of the extracted data. Dictionaries are very good at storing data with associated labels, and these methods make it easy to access the data. "
   ]
  },
  {
   "cell_type": "code",
   "execution_count": 46,
   "id": "80bf47e3",
   "metadata": {},
   "outputs": [
    {
     "data": {
      "text/plain": [
       "dict_keys(['2015', '2016', '2017'])"
      ]
     },
     "execution_count": 46,
     "metadata": {},
     "output_type": "execute_result"
    }
   ],
   "source": [
    "my_dict.keys()"
   ]
  },
  {
   "cell_type": "code",
   "execution_count": 47,
   "id": "bd86c283",
   "metadata": {},
   "outputs": [
    {
     "data": {
      "text/plain": [
       "dict_values([[12, 67, 34, 13, 95, 82], [23, 87, 93, 56, 70, 104], [349, 654, 349, 567, 186, 240]])"
      ]
     },
     "execution_count": 47,
     "metadata": {},
     "output_type": "execute_result"
    }
   ],
   "source": [
    "my_dict.values()"
   ]
  },
  {
   "cell_type": "code",
   "execution_count": 48,
   "id": "1abc290d",
   "metadata": {},
   "outputs": [
    {
     "data": {
      "text/plain": [
       "dict_items([('2015', [12, 67, 34, 13, 95, 82]), ('2016', [23, 87, 93, 56, 70, 104]), ('2017', [349, 654, 349, 567, 186, 240])])"
      ]
     },
     "execution_count": 48,
     "metadata": {},
     "output_type": "execute_result"
    }
   ],
   "source": [
    "my_dict.items()"
   ]
  },
  {
   "cell_type": "markdown",
   "id": "f7227779",
   "metadata": {},
   "source": [
    "## Dataframes\n",
    "\n",
    "Dataframes are Python's equivalent of Excel tables, but they have a lot of built-in manipulations. Dataframes have an <b>index</b> column that isn't a true column, but is useful for enumerating a dataframe. This index is also zero-indexed, so the first row is assigned an index of 0, not 1. \n",
    "\n",
    "The easiest way to generate a dataframe is using the <a href=\"https://pandas.pydata.org/\" target=\"_blank\"><b>pandas</b></a> package. Like with `numpy`, we need an import statement to allow our computing environment to access the functions contained within the package. \n",
    "\n",
    "Pandas can generate dataframes from dictionaries, arrays, or other data structures using different functions. We will use the `DataFrame()` function, but you can also use the `DataFrame.from_dict()` function for dictionaries. The documentation for pandas dataframe methods can be found <a href=\"https://pandas.pydata.org/docs/reference/api/pandas.DataFrame.html\" target=\"_blank\">here</a>, with detailed instructions on using each of the functions. "
   ]
  },
  {
   "cell_type": "code",
   "execution_count": 49,
   "id": "779cb81c",
   "metadata": {},
   "outputs": [],
   "source": [
    "import pandas as pd\n",
    "\n",
    "# use the following function to generate a dataframe from a dictionary\n",
    "my_df = pd.DataFrame(my_dict)"
   ]
  },
  {
   "cell_type": "code",
   "execution_count": 50,
   "id": "00ff2ef3",
   "metadata": {},
   "outputs": [
    {
     "data": {
      "text/html": [
       "<div>\n",
       "<style scoped>\n",
       "    .dataframe tbody tr th:only-of-type {\n",
       "        vertical-align: middle;\n",
       "    }\n",
       "\n",
       "    .dataframe tbody tr th {\n",
       "        vertical-align: top;\n",
       "    }\n",
       "\n",
       "    .dataframe thead th {\n",
       "        text-align: right;\n",
       "    }\n",
       "</style>\n",
       "<table border=\"1\" class=\"dataframe\">\n",
       "  <thead>\n",
       "    <tr style=\"text-align: right;\">\n",
       "      <th></th>\n",
       "      <th>2015</th>\n",
       "      <th>2016</th>\n",
       "      <th>2017</th>\n",
       "    </tr>\n",
       "  </thead>\n",
       "  <tbody>\n",
       "    <tr>\n",
       "      <th>0</th>\n",
       "      <td>12</td>\n",
       "      <td>23</td>\n",
       "      <td>349</td>\n",
       "    </tr>\n",
       "    <tr>\n",
       "      <th>1</th>\n",
       "      <td>67</td>\n",
       "      <td>87</td>\n",
       "      <td>654</td>\n",
       "    </tr>\n",
       "    <tr>\n",
       "      <th>2</th>\n",
       "      <td>34</td>\n",
       "      <td>93</td>\n",
       "      <td>349</td>\n",
       "    </tr>\n",
       "    <tr>\n",
       "      <th>3</th>\n",
       "      <td>13</td>\n",
       "      <td>56</td>\n",
       "      <td>567</td>\n",
       "    </tr>\n",
       "    <tr>\n",
       "      <th>4</th>\n",
       "      <td>95</td>\n",
       "      <td>70</td>\n",
       "      <td>186</td>\n",
       "    </tr>\n",
       "    <tr>\n",
       "      <th>5</th>\n",
       "      <td>82</td>\n",
       "      <td>104</td>\n",
       "      <td>240</td>\n",
       "    </tr>\n",
       "  </tbody>\n",
       "</table>\n",
       "</div>"
      ],
      "text/plain": [
       "   2015  2016  2017\n",
       "0    12    23   349\n",
       "1    67    87   654\n",
       "2    34    93   349\n",
       "3    13    56   567\n",
       "4    95    70   186\n",
       "5    82   104   240"
      ]
     },
     "execution_count": 50,
     "metadata": {},
     "output_type": "execute_result"
    }
   ],
   "source": [
    "my_df"
   ]
  },
  {
   "cell_type": "markdown",
   "id": "3832e947",
   "metadata": {},
   "source": [
    "The labels / keys of the dictionary become the columns of the dataframe, and the elements become the rows. For the function to work, all of the dictionary entries must have the same length. If not, Python will give you an error saying so. \n",
    "\n",
    "To address this problem, there are a few <a href=\"https://stackoverflow.com/questions/19736080/creating-dataframe-from-a-dictionary-where-entries-have-different-lengths\" target=\"_blank\">solutions</a> on Stack Overflow, a collaboration and knowledge sharing platform for programmers and developers. You can choose the solution you like best or that fits your code structure. "
   ]
  },
  {
   "cell_type": "markdown",
   "id": "1ec43dac",
   "metadata": {},
   "source": [
    "There are innumerable functions and manipulations you can use with pandas dataframes, but I will highlight a few below\n",
    "\n",
    "1. `df.shape`: returns a tuple of the number of rows and columns (rows first)\n",
    "2. `df.columns`: list of column names\n",
    "3. `df.head()`: show the first N rows of the dataframe. By default, N = 5, but can be changed.\n",
    "4. `df.tail()`: show the last N rows of the dataframe. By default, N = 5, but can be changed.\n",
    "5. `df.dropna`: removes missing entries (called NaN = <b><u>N</u></b>ot <b><u>a</u></b> <b><u>N</u></b>umber)\n",
    "6. `df.fillna(replace_value)`: fills missing entries with a user-supplied value\n",
    "7. `df.groupby(col_name)`: groups entries by the values of user-supplied columns. You can compute mean, median, etc. for each group.\n",
    "8. `df.replace(to_replace, new_value)`: replaces certain values with new values\n",
    "9. `df.append(df_2)`: attach df_2 to the bottom of df, joining along shared columns\n",
    "10. `pd.concat(list_of_dataframes)`: similar to the append method, but with a different call signature. Merges dataframes along columns\n",
    "\n",
    "In Python, there are many ways to skin a cat, so many functions perform similar tasks or can be modified with arguments to have the same effect. As you become more familiar with Python, you can make code more efficient or look more \"<a href=\"https://docs.python-guide.org/writing/style/\" target=\"_blank\">Pythonic</a>\" (language fluency).\n",
    "\n",
    "New columns can be added to dataframes using bracket syntax with the name of the new column as a string inside brackets. The length of the list or array being set to the new column must have the same length as the dataframe. "
   ]
  },
  {
   "cell_type": "code",
   "execution_count": 58,
   "id": "52a7fd23",
   "metadata": {},
   "outputs": [
    {
     "data": {
      "text/html": [
       "<div>\n",
       "<style scoped>\n",
       "    .dataframe tbody tr th:only-of-type {\n",
       "        vertical-align: middle;\n",
       "    }\n",
       "\n",
       "    .dataframe tbody tr th {\n",
       "        vertical-align: top;\n",
       "    }\n",
       "\n",
       "    .dataframe thead th {\n",
       "        text-align: right;\n",
       "    }\n",
       "</style>\n",
       "<table border=\"1\" class=\"dataframe\">\n",
       "  <thead>\n",
       "    <tr style=\"text-align: right;\">\n",
       "      <th></th>\n",
       "      <th>2015</th>\n",
       "      <th>2016</th>\n",
       "      <th>2017</th>\n",
       "      <th>type</th>\n",
       "    </tr>\n",
       "  </thead>\n",
       "  <tbody>\n",
       "    <tr>\n",
       "      <th>0</th>\n",
       "      <td>12</td>\n",
       "      <td>23</td>\n",
       "      <td>349</td>\n",
       "      <td>a</td>\n",
       "    </tr>\n",
       "    <tr>\n",
       "      <th>1</th>\n",
       "      <td>67</td>\n",
       "      <td>87</td>\n",
       "      <td>654</td>\n",
       "      <td>a</td>\n",
       "    </tr>\n",
       "    <tr>\n",
       "      <th>2</th>\n",
       "      <td>34</td>\n",
       "      <td>93</td>\n",
       "      <td>349</td>\n",
       "      <td>b</td>\n",
       "    </tr>\n",
       "    <tr>\n",
       "      <th>3</th>\n",
       "      <td>13</td>\n",
       "      <td>56</td>\n",
       "      <td>567</td>\n",
       "      <td>b</td>\n",
       "    </tr>\n",
       "    <tr>\n",
       "      <th>4</th>\n",
       "      <td>95</td>\n",
       "      <td>70</td>\n",
       "      <td>186</td>\n",
       "      <td>b</td>\n",
       "    </tr>\n",
       "    <tr>\n",
       "      <th>5</th>\n",
       "      <td>82</td>\n",
       "      <td>104</td>\n",
       "      <td>240</td>\n",
       "      <td>a</td>\n",
       "    </tr>\n",
       "  </tbody>\n",
       "</table>\n",
       "</div>"
      ],
      "text/plain": [
       "   2015  2016  2017 type\n",
       "0    12    23   349    a\n",
       "1    67    87   654    a\n",
       "2    34    93   349    b\n",
       "3    13    56   567    b\n",
       "4    95    70   186    b\n",
       "5    82   104   240    a"
      ]
     },
     "execution_count": 58,
     "metadata": {},
     "output_type": "execute_result"
    }
   ],
   "source": [
    "# add another column to the dataframe to make a categorical variable\n",
    "my_df['type'] = ['a', 'a', 'b', 'b', 'b', 'a']\n",
    "\n",
    "my_df"
   ]
  },
  {
   "cell_type": "markdown",
   "id": "1aa09205",
   "metadata": {},
   "source": [
    "Dataframes can be grouped by categorical variable. From the grouped dataframe, you can compute summary statistics like the mean, median, standard deviation, and number of values in each group."
   ]
  },
  {
   "cell_type": "code",
   "execution_count": 59,
   "id": "3b33b22f",
   "metadata": {},
   "outputs": [
    {
     "data": {
      "text/html": [
       "<div>\n",
       "<style scoped>\n",
       "    .dataframe tbody tr th:only-of-type {\n",
       "        vertical-align: middle;\n",
       "    }\n",
       "\n",
       "    .dataframe tbody tr th {\n",
       "        vertical-align: top;\n",
       "    }\n",
       "\n",
       "    .dataframe thead th {\n",
       "        text-align: right;\n",
       "    }\n",
       "</style>\n",
       "<table border=\"1\" class=\"dataframe\">\n",
       "  <thead>\n",
       "    <tr style=\"text-align: right;\">\n",
       "      <th></th>\n",
       "      <th>2015</th>\n",
       "      <th>2016</th>\n",
       "      <th>2017</th>\n",
       "    </tr>\n",
       "    <tr>\n",
       "      <th>type</th>\n",
       "      <th></th>\n",
       "      <th></th>\n",
       "      <th></th>\n",
       "    </tr>\n",
       "  </thead>\n",
       "  <tbody>\n",
       "    <tr>\n",
       "      <th>a</th>\n",
       "      <td>3</td>\n",
       "      <td>3</td>\n",
       "      <td>3</td>\n",
       "    </tr>\n",
       "    <tr>\n",
       "      <th>b</th>\n",
       "      <td>3</td>\n",
       "      <td>3</td>\n",
       "      <td>3</td>\n",
       "    </tr>\n",
       "  </tbody>\n",
       "</table>\n",
       "</div>"
      ],
      "text/plain": [
       "      2015  2016  2017\n",
       "type                  \n",
       "a        3     3     3\n",
       "b        3     3     3"
      ]
     },
     "execution_count": 59,
     "metadata": {},
     "output_type": "execute_result"
    }
   ],
   "source": [
    "# count the number of values of each type\n",
    "my_df.groupby('type').count()"
   ]
  },
  {
   "cell_type": "code",
   "execution_count": 66,
   "id": "a9e2b247",
   "metadata": {},
   "outputs": [
    {
     "data": {
      "text/html": [
       "<div>\n",
       "<style scoped>\n",
       "    .dataframe tbody tr th:only-of-type {\n",
       "        vertical-align: middle;\n",
       "    }\n",
       "\n",
       "    .dataframe tbody tr th {\n",
       "        vertical-align: top;\n",
       "    }\n",
       "\n",
       "    .dataframe thead th {\n",
       "        text-align: right;\n",
       "    }\n",
       "</style>\n",
       "<table border=\"1\" class=\"dataframe\">\n",
       "  <thead>\n",
       "    <tr style=\"text-align: right;\">\n",
       "      <th></th>\n",
       "      <th>2015</th>\n",
       "      <th>2016</th>\n",
       "      <th>2017</th>\n",
       "    </tr>\n",
       "    <tr>\n",
       "      <th>type</th>\n",
       "      <th></th>\n",
       "      <th></th>\n",
       "      <th></th>\n",
       "    </tr>\n",
       "  </thead>\n",
       "  <tbody>\n",
       "    <tr>\n",
       "      <th>a</th>\n",
       "      <td>53.666667</td>\n",
       "      <td>71.333333</td>\n",
       "      <td>414.333333</td>\n",
       "    </tr>\n",
       "    <tr>\n",
       "      <th>b</th>\n",
       "      <td>47.333333</td>\n",
       "      <td>73.000000</td>\n",
       "      <td>367.333333</td>\n",
       "    </tr>\n",
       "  </tbody>\n",
       "</table>\n",
       "</div>"
      ],
      "text/plain": [
       "           2015       2016        2017\n",
       "type                                  \n",
       "a     53.666667  71.333333  414.333333\n",
       "b     47.333333  73.000000  367.333333"
      ]
     },
     "execution_count": 66,
     "metadata": {},
     "output_type": "execute_result"
    }
   ],
   "source": [
    "# get the mean for each year by type\n",
    "my_df.groupby('type').mean()"
   ]
  },
  {
   "cell_type": "code",
   "execution_count": 61,
   "id": "1ddb1b17",
   "metadata": {},
   "outputs": [
    {
     "data": {
      "text/html": [
       "<div>\n",
       "<style scoped>\n",
       "    .dataframe tbody tr th:only-of-type {\n",
       "        vertical-align: middle;\n",
       "    }\n",
       "\n",
       "    .dataframe tbody tr th {\n",
       "        vertical-align: top;\n",
       "    }\n",
       "\n",
       "    .dataframe thead th {\n",
       "        text-align: right;\n",
       "    }\n",
       "</style>\n",
       "<table border=\"1\" class=\"dataframe\">\n",
       "  <thead>\n",
       "    <tr style=\"text-align: right;\">\n",
       "      <th></th>\n",
       "      <th>2015</th>\n",
       "      <th>2016</th>\n",
       "      <th>2017</th>\n",
       "    </tr>\n",
       "    <tr>\n",
       "      <th>type</th>\n",
       "      <th></th>\n",
       "      <th></th>\n",
       "      <th></th>\n",
       "    </tr>\n",
       "  </thead>\n",
       "  <tbody>\n",
       "    <tr>\n",
       "      <th>a</th>\n",
       "      <td>36.855574</td>\n",
       "      <td>42.712215</td>\n",
       "      <td>214.593414</td>\n",
       "    </tr>\n",
       "    <tr>\n",
       "      <th>b</th>\n",
       "      <td>42.594992</td>\n",
       "      <td>18.681542</td>\n",
       "      <td>191.160491</td>\n",
       "    </tr>\n",
       "  </tbody>\n",
       "</table>\n",
       "</div>"
      ],
      "text/plain": [
       "           2015       2016        2017\n",
       "type                                  \n",
       "a     36.855574  42.712215  214.593414\n",
       "b     42.594992  18.681542  191.160491"
      ]
     },
     "execution_count": 61,
     "metadata": {},
     "output_type": "execute_result"
    }
   ],
   "source": [
    "# get the mean for each year by type\n",
    "my_df.groupby('type').std()"
   ]
  },
  {
   "cell_type": "markdown",
   "id": "3e0f8c69",
   "metadata": {},
   "source": [
    "## Series\n",
    "\n",
    "A series is a data structure generated when extracting a single column from a dataframe. Individual columns can be extracted using bracket syntax, or if the column name does not have spaces and is not a number, after a period:"
   ]
  },
  {
   "cell_type": "code",
   "execution_count": 33,
   "id": "7c30d4f1",
   "metadata": {},
   "outputs": [
    {
     "data": {
      "text/plain": [
       "0    12\n",
       "1    67\n",
       "2    34\n",
       "Name: 2015, dtype: int64"
      ]
     },
     "execution_count": 33,
     "metadata": {},
     "output_type": "execute_result"
    }
   ],
   "source": [
    "my_df['2015']"
   ]
  },
  {
   "cell_type": "code",
   "execution_count": 34,
   "id": "bd53f59f",
   "metadata": {},
   "outputs": [
    {
     "data": {
      "text/plain": [
       "pandas.core.series.Series"
      ]
     },
     "execution_count": 34,
     "metadata": {},
     "output_type": "execute_result"
    }
   ],
   "source": [
    "type(my_df['2015'])"
   ]
  },
  {
   "cell_type": "markdown",
   "id": "efd5d173",
   "metadata": {},
   "source": [
    "Series are labeled arrays. When performing operations on series, they are also performed element-wise. They are labeled because entires are labeled with indices. If you extract a series from a grouped dataframe, you can index by the groups."
   ]
  },
  {
   "cell_type": "code",
   "execution_count": 35,
   "id": "ffa3efe9",
   "metadata": {},
   "outputs": [
    {
     "data": {
      "text/plain": [
       "0     35\n",
       "1    154\n",
       "2    127\n",
       "dtype: int64"
      ]
     },
     "execution_count": 35,
     "metadata": {},
     "output_type": "execute_result"
    }
   ],
   "source": [
    "# element-wise operations\n",
    "my_df['2015'] + my_df['2016']"
   ]
  },
  {
   "cell_type": "code",
   "execution_count": null,
   "id": "dc308dc1",
   "metadata": {},
   "outputs": [],
   "source": []
  }
 ],
 "metadata": {
  "kernelspec": {
   "display_name": "Python 3 (ipykernel)",
   "language": "python",
   "name": "python3"
  },
  "language_info": {
   "codemirror_mode": {
    "name": "ipython",
    "version": 3
   },
   "file_extension": ".py",
   "mimetype": "text/x-python",
   "name": "python",
   "nbconvert_exporter": "python",
   "pygments_lexer": "ipython3",
   "version": "3.8.12"
  }
 },
 "nbformat": 4,
 "nbformat_minor": 5
}
