{
 "cells": [
  {
   "cell_type": "markdown",
   "id": "f78e059c",
   "metadata": {},
   "source": [
    "# <u> Tutorial 2: Python Basics </u>\n",
    "\n",
    "\n",
    "<br> This series of tutorials is intended to teach the basics of Python for scientific programming. These tutorials were written by Sanjana Kulkarni, an intern in the High Throughput Analytics group during summer 2021. "
   ]
  },
  {
   "cell_type": "markdown",
   "id": "78bcd8c1",
   "metadata": {},
   "source": [
    "Python can be used as a calculator to perform the following basic mathematical operations and their commands. \n",
    "\n",
    "1. `+`: addition\n",
    "2. `-`: subtraction\n",
    "3. `*`: multiplication\n",
    "4. `/`: division\n",
    "5. `**`: exponentiation\n",
    "6. `%`: return remainder of division (a.k.a modulo)\n",
    "7. `==`: check if two values are equivalent, returns True or False\n",
    "\n",
    "These operations can be typed directly into a code cell. \n",
    "\n",
    "Comments can be written within code cells. These aren't code, but descriptions of what the code is doing, so they are not run in Python. To denote comments, use the <b>#</b> character before the comment."
   ]
  },
  {
   "cell_type": "code",
   "execution_count": 8,
   "id": "1d55e13f",
   "metadata": {},
   "outputs": [
    {
     "data": {
      "text/plain": [
       "5"
      ]
     },
     "execution_count": 8,
     "metadata": {},
     "output_type": "execute_result"
    }
   ],
   "source": [
    "# the remainder when 35 is divided by 6 is 5\n",
    "35 % 6"
   ]
  },
  {
   "cell_type": "code",
   "execution_count": 9,
   "id": "e61261e6",
   "metadata": {},
   "outputs": [
    {
     "data": {
      "text/plain": [
       "True"
      ]
     },
     "execution_count": 9,
     "metadata": {},
     "output_type": "execute_result"
    }
   ],
   "source": [
    "# 8 is equivalent to 2^3\n",
    "8 == 2**3"
   ]
  },
  {
   "cell_type": "markdown",
   "id": "4450330c",
   "metadata": {},
   "source": [
    "There are several data types in Python, the most common of which are integer (int), float, and string (str). To determine the data type of an object, use the `type()` function. This is built into Python, so no packages are needed to be imported. "
   ]
  },
  {
   "cell_type": "code",
   "execution_count": 10,
   "id": "e2341857",
   "metadata": {},
   "outputs": [
    {
     "data": {
      "text/plain": [
       "str"
      ]
     },
     "execution_count": 10,
     "metadata": {},
     "output_type": "execute_result"
    }
   ],
   "source": [
    "# a sequence of characters in quotes is a string\n",
    "type(\"hello, world\")"
   ]
  },
  {
   "cell_type": "code",
   "execution_count": 11,
   "id": "80bd2c51",
   "metadata": {},
   "outputs": [
    {
     "data": {
      "text/plain": [
       "int"
      ]
     },
     "execution_count": 11,
     "metadata": {},
     "output_type": "execute_result"
    }
   ],
   "source": [
    "# this is an integer\n",
    "type(8)"
   ]
  },
  {
   "cell_type": "code",
   "execution_count": 12,
   "id": "28dac9b1",
   "metadata": {},
   "outputs": [
    {
     "data": {
      "text/plain": [
       "float"
      ]
     },
     "execution_count": 12,
     "metadata": {},
     "output_type": "execute_result"
    }
   ],
   "source": [
    "# this is a floating point number (basically a decimal)\n",
    "type(4.34)"
   ]
  },
  {
   "cell_type": "markdown",
   "id": "3b008f22",
   "metadata": {},
   "source": [
    "Variable declaration in Python is very easy. To declare a variable, simply use the `=` symbol. The numerical or string value of the variable is then stored and can be used over and over instead of writing out the full value. "
   ]
  },
  {
   "cell_type": "code",
   "execution_count": 13,
   "id": "b354674d",
   "metadata": {},
   "outputs": [
    {
     "data": {
      "text/plain": [
       "9"
      ]
     },
     "execution_count": 13,
     "metadata": {},
     "output_type": "execute_result"
    }
   ],
   "source": [
    "# make a variable called a with the value 3\n",
    "a = 3\n",
    "\n",
    "# show that a * 3 is the same as 3 * 3\n",
    "a * 3"
   ]
  },
  {
   "cell_type": "markdown",
   "id": "476e10bc",
   "metadata": {},
   "source": [
    "By default, the results of a Python operation are printed by the cell. If you don't want the value to be printed, set it to a new variable."
   ]
  },
  {
   "cell_type": "code",
   "execution_count": 14,
   "id": "7f2c5c06",
   "metadata": {},
   "outputs": [],
   "source": [
    "b = a * 3"
   ]
  },
  {
   "cell_type": "markdown",
   "id": "539e7ceb",
   "metadata": {},
   "source": [
    "## Operation Assignments\n",
    "\n",
    "In addition to the operations above, we can assign existing variables to new values using operations. This syntax is the mathematical symbol followed by an equals sign. We have the variable a, which is equal to 3. We can change it as follows:"
   ]
  },
  {
   "cell_type": "code",
   "execution_count": 15,
   "id": "74b2a4e0",
   "metadata": {},
   "outputs": [
    {
     "data": {
      "text/plain": [
       "12"
      ]
     },
     "execution_count": 15,
     "metadata": {},
     "output_type": "execute_result"
    }
   ],
   "source": [
    "# make a = a * 4\n",
    "a *= 4\n",
    "a"
   ]
  },
  {
   "cell_type": "markdown",
   "id": "20d81128",
   "metadata": {},
   "source": [
    "Now, `a = 12`. We can do the same thing with the other 5 operations listed above, including modulo. Try it for yourself!\n",
    "\n",
    "The above code produces the same output as `a = a * 4`, but it is a bit cleaner with an operation assignment, which combines both steps."
   ]
  },
  {
   "cell_type": "markdown",
   "id": "2d1bbe3b",
   "metadata": {},
   "source": [
    "## Type Coercion"
   ]
  },
  {
   "cell_type": "markdown",
   "id": "efc574c4",
   "metadata": {},
   "source": [
    "Python allows for objects of of one type to be recast into another. This is called <b>type coercion</b>. To do this, call the `int`, `str`, or `float` functions on an object. "
   ]
  },
  {
   "cell_type": "code",
   "execution_count": 9,
   "id": "8395cd9c",
   "metadata": {},
   "outputs": [
    {
     "data": {
      "text/plain": [
       "'4'"
      ]
     },
     "execution_count": 9,
     "metadata": {},
     "output_type": "execute_result"
    }
   ],
   "source": [
    "# converts the integer 4 to a string\n",
    "str(4)"
   ]
  },
  {
   "cell_type": "code",
   "execution_count": 10,
   "id": "451b23ce",
   "metadata": {},
   "outputs": [
    {
     "data": {
      "text/plain": [
       "1285"
      ]
     },
     "execution_count": 10,
     "metadata": {},
     "output_type": "execute_result"
    }
   ],
   "source": [
    "# converts the string 1285 to an integer\n",
    "int(\"1285\")"
   ]
  },
  {
   "cell_type": "code",
   "execution_count": 11,
   "id": "0124d83e",
   "metadata": {},
   "outputs": [
    {
     "data": {
      "text/plain": [
       "1285.0"
      ]
     },
     "execution_count": 11,
     "metadata": {},
     "output_type": "execute_result"
    }
   ],
   "source": [
    "# converts the string 1285 to an integer\n",
    "float(\"1285\")"
   ]
  },
  {
   "cell_type": "markdown",
   "id": "8c250901",
   "metadata": {},
   "source": [
    "It doesn't always work though. If you call the `int` or `float` functions on a string that is made up of letters rather than numbers, Python will throw an error because there is no numerical equivalent. "
   ]
  },
  {
   "cell_type": "code",
   "execution_count": 12,
   "id": "b81e7cf3",
   "metadata": {},
   "outputs": [
    {
     "ename": "ValueError",
     "evalue": "invalid literal for int() with base 10: 'words!'",
     "output_type": "error",
     "traceback": [
      "\u001b[1;31m---------------------------------------------------------------------------\u001b[0m",
      "\u001b[1;31mValueError\u001b[0m                                Traceback (most recent call last)",
      "\u001b[1;32m<ipython-input-12-a19fc8fa9086>\u001b[0m in \u001b[0;36m<module>\u001b[1;34m\u001b[0m\n\u001b[0;32m      1\u001b[0m \u001b[1;31m# we cannot convert words to an integer\u001b[0m\u001b[1;33m\u001b[0m\u001b[1;33m\u001b[0m\u001b[1;33m\u001b[0m\u001b[0m\n\u001b[1;32m----> 2\u001b[1;33m \u001b[0mint\u001b[0m\u001b[1;33m(\u001b[0m\u001b[1;34m\"words!\"\u001b[0m\u001b[1;33m)\u001b[0m\u001b[1;33m\u001b[0m\u001b[1;33m\u001b[0m\u001b[0m\n\u001b[0m\u001b[0;32m      3\u001b[0m \u001b[1;33m\u001b[0m\u001b[0m\n\u001b[0;32m      4\u001b[0m \u001b[1;31m# the same will happen with float(\"words!\")\u001b[0m\u001b[1;33m\u001b[0m\u001b[1;33m\u001b[0m\u001b[1;33m\u001b[0m\u001b[0m\n",
      "\u001b[1;31mValueError\u001b[0m: invalid literal for int() with base 10: 'words!'"
     ]
    }
   ],
   "source": [
    "# we cannot convert words to an integer\n",
    "int(\"words!\")\n",
    "\n",
    "# the same will happen with float(\"words!\")"
   ]
  },
  {
   "cell_type": "markdown",
   "id": "91406a4c",
   "metadata": {},
   "source": [
    "## Print Statements\n",
    "\n",
    "We can print out values easily in Python. Simply use the `print()` function with the objects to be printed inside the parentheses. Nearly every type of Python object can be enclosed in a print statement, though this is functionally the same as assigning the object to a variable and calling that variable. \n",
    "\n",
    "Print statements are useful for printing messages, iterating variables, and progress bars."
   ]
  },
  {
   "cell_type": "code",
   "execution_count": 4,
   "id": "19c1fa6d",
   "metadata": {},
   "outputs": [
    {
     "name": "stdout",
     "output_type": "stream",
     "text": [
      "10\n"
     ]
    }
   ],
   "source": [
    "print(10)"
   ]
  },
  {
   "cell_type": "code",
   "execution_count": 5,
   "id": "12f9fb78",
   "metadata": {},
   "outputs": [
    {
     "name": "stdout",
     "output_type": "stream",
     "text": [
      "This is a message!\n"
     ]
    }
   ],
   "source": [
    "print(\"This is a message!\")"
   ]
  },
  {
   "cell_type": "markdown",
   "id": "ae45bca8",
   "metadata": {},
   "source": [
    "## Naming Conventions\n",
    "\n",
    "One thing to keep in mind about Python is that file names and labels are best WITHOUT spaces. On the command line and when slicing dictionaries and dataframes (discussed later), a name with spaces must be enclosed in quotation marks to keep the characters together. \n",
    "\n",
    "Variable names must be written in <b>snake case</b> or <b>camel case</b>. In snake case, different words in a variable name are separated by underscores. In camel case, the second and subsequent words should be capitalized to show where individual words start and end.\n",
    "\n",
    "Variable names should be somewhat descriptive so that another user does not get lost in a bunch of confusing variable names like `a`, `b`, `c`, etc. I used these above because they were dummy variables, but if you want to store values like means, ranges, titles, etc., it is best to choose something that signals to users (including your future self re-reading old code) what the variable is storing. Here are some examples:"
   ]
  },
  {
   "cell_type": "code",
   "execution_count": 1,
   "id": "9b0d6047",
   "metadata": {},
   "outputs": [],
   "source": [
    "# good variable name -- snake case\n",
    "# we can tell that the variable is storing the average length of some type of flower\n",
    "mean_flower_length = 10\n",
    "\n",
    "# bad variable name\n",
    "length = 10\n",
    "\n",
    "# also good variable name -- camel case\n",
    "meanFlowerLength = 10"
   ]
  },
  {
   "cell_type": "markdown",
   "id": "9f29d561",
   "metadata": {},
   "source": [
    "There are some native Python functions that might look like they make good variable names. Some common ones are\n",
    "\n",
    "1. `len` = length of a data structure\n",
    "2. `str` = string type\n",
    "3. `int` = integer type\n",
    "4. `lambda` = used to define functions without a name\n",
    "5. `iter` = iterates through a data structure\n",
    "\n",
    "When you type these in a cell, the editor colors the text green, signaling a function. DO NOT MAKE VARIABLES WITH THESE NAMES.  "
   ]
  },
  {
   "cell_type": "markdown",
   "id": "daf4c968",
   "metadata": {},
   "source": [
    "## Functions\n",
    "\n",
    "Functions are a set of grouped commands that can be repeated without copying and pasting the same code. If you find yourself doing the same steps on different inputs, it is a perfect time to write a function. Functions in Python are defined with the following syntax:"
   ]
  },
  {
   "cell_type": "code",
   "execution_count": 1,
   "id": "d1ea726f",
   "metadata": {},
   "outputs": [],
   "source": [
    "def my_function(x):\n",
    "    \n",
    "    # do some steps\n",
    "    y = x + 10\n",
    "    \n",
    "    z = y - 34\n",
    "    \n",
    "    # return the output\n",
    "    return z"
   ]
  },
  {
   "cell_type": "markdown",
   "id": "6ce509f0",
   "metadata": {},
   "source": [
    "It begins with a function definition and then the name of the function. Inside parentheses are the <b>arguments</b>. A function can take anywhere from 0 to many arguments. It can also return nothing, a list/tuple of many things, single value, dataframe, plot, or any other Python object. <b>All of the code of a function, including the return statement, must be indented.</b>\n",
    "\n",
    "It is good to write <b>docstrings</b> for functions that you write. Docstrings are located at the top of a function and are set off by triple quotes. Docstrings provide information on how to use a function, similar to Python documentation. If your function has a docstring, then calling `my_function?` will show it. "
   ]
  },
  {
   "cell_type": "code",
   "execution_count": 3,
   "id": "2a75890f",
   "metadata": {},
   "outputs": [
    {
     "data": {
      "text/plain": [
       "-20"
      ]
     },
     "execution_count": 3,
     "metadata": {},
     "output_type": "execute_result"
    }
   ],
   "source": [
    "my_function(4)"
   ]
  },
  {
   "cell_type": "code",
   "execution_count": 5,
   "id": "828cb83b",
   "metadata": {},
   "outputs": [],
   "source": [
    "def function_with_docstring(x, y):\n",
    "    '''\n",
    "    This function sums the two arguments and then returns modulo 2 of the sum. \n",
    "    \n",
    "    Arguments:\n",
    "        2 integers or floats\n",
    "    Returns:\n",
    "        sum modulo 2\n",
    "    '''\n",
    "    z = x + y\n",
    "    \n",
    "    return z % 2"
   ]
  },
  {
   "cell_type": "code",
   "execution_count": 6,
   "id": "d10a6be3",
   "metadata": {},
   "outputs": [],
   "source": [
    "# show the documentation\n",
    "function_with_docstring?"
   ]
  },
  {
   "cell_type": "markdown",
   "id": "6d5421b4",
   "metadata": {},
   "source": [
    "## If / Elif / Else Statements\n",
    "\n",
    "These blocks of code execute different functions when different conditions are met. The syntax is \n",
    "\n",
    "```\n",
    "if condition1 == True:\n",
    "    do thing1\n",
    "    \n",
    "elif condition2 == True:\n",
    "    do thing2\n",
    "    \n",
    "else:\n",
    "    do thing3\n",
    "```\n",
    "\n",
    "Elif stands for <b><u>el</u></b>se <b><u>if</u></b>, meaning that you drop down to the elif block only if the previous `if` statement was not true. Some helpful hints:\n",
    "\n",
    "1. You can have multiple elif statements in a block of code, and else statements don't need to be included if cases that don't meet the `if` or `elif` conditions should be ignored.\n",
    "2. Multiple conditions can be included in a single line, with AND or OR logic, like so:\n",
    "\n",
    "```\n",
    "if condition1 & condition2:\n",
    "    do thing1\n",
    "elif condition3 or condition4:\n",
    "    do thing2\n",
    "```\n",
    "\n",
    "3. If you follow an `if` statement with another `if` statement, they will be treated as independent conditions. Combining `elif` and `else` with `if` creates a single code block whose statements are dependent on each other.\n",
    "\n",
    "Often, if/elif/else statements are combined with for loops to iterate through a list. "
   ]
  },
  {
   "cell_type": "code",
   "execution_count": 21,
   "id": "9ab638c0",
   "metadata": {},
   "outputs": [
    {
     "name": "stdout",
     "output_type": "stream",
     "text": [
      "0: multiple of 6\n",
      "1 odd\n",
      "2: even\n",
      "3 odd\n",
      "4: even\n",
      "5 odd\n",
      "6: multiple of 6\n",
      "7 odd\n",
      "8: even\n",
      "9 odd\n"
     ]
    }
   ],
   "source": [
    "for num in range(10):\n",
    "    \n",
    "    if num % 2 == 0:\n",
    "        if num % 3 == 0:\n",
    "            print(f'{num}: multiple of 6')\n",
    "        else:\n",
    "            print(f'{num}: even')\n",
    "    else:\n",
    "        print(f'{num} odd')"
   ]
  },
  {
   "cell_type": "markdown",
   "id": "4ecc66cc",
   "metadata": {},
   "source": [
    "Here, we also nested `if` statements within each other, which performs a function if both conditions are met, one after another. You can do this by indenting an if statement so that it is run only if the previous statement return true."
   ]
  },
  {
   "cell_type": "markdown",
   "id": "18eee744",
   "metadata": {},
   "source": [
    "## Loops\n",
    "\n",
    "Loops are blocks of code that get repeated a fixed number of times. The two types of loops in computer programming are <b>for</b> and <b>while</b> loops. \n",
    "\n",
    "For loops iterate through a defined range, and while loops continue while a certain condition is met. \n",
    "\n",
    "The range function in Python is returns numbers from 0 to N-1. So `range(10)` gives numbers from 0 to 9, as printed in the for loop below."
   ]
  },
  {
   "cell_type": "code",
   "execution_count": 1,
   "id": "04f09047",
   "metadata": {},
   "outputs": [
    {
     "name": "stdout",
     "output_type": "stream",
     "text": [
      "0\n",
      "1\n",
      "2\n",
      "3\n",
      "4\n",
      "5\n",
      "6\n",
      "7\n",
      "8\n",
      "9\n"
     ]
    }
   ],
   "source": [
    "# iterate through the number 10\n",
    "for num in range(10):\n",
    "    print(num)"
   ]
  },
  {
   "cell_type": "markdown",
   "id": "0f82154e",
   "metadata": {},
   "source": [
    "During the loop iteration, the value of the variable `num` changes, and at the end of the execution, `num = 9`."
   ]
  },
  {
   "cell_type": "code",
   "execution_count": 3,
   "id": "f5fc0aa9",
   "metadata": {},
   "outputs": [
    {
     "data": {
      "text/plain": [
       "9"
      ]
     },
     "execution_count": 3,
     "metadata": {},
     "output_type": "execute_result"
    }
   ],
   "source": [
    "num"
   ]
  },
  {
   "cell_type": "markdown",
   "id": "c13dc902",
   "metadata": {},
   "source": [
    "We typically run while loops with counters or with a changing condition until the condition reaches the end point for the while loop. "
   ]
  },
  {
   "cell_type": "code",
   "execution_count": 6,
   "id": "aa51e57f",
   "metadata": {},
   "outputs": [
    {
     "name": "stdout",
     "output_type": "stream",
     "text": [
      "This is iteration 0\n",
      "This is iteration 1\n",
      "This is iteration 2\n",
      "This is iteration 3\n",
      "This is iteration 4\n",
      "This is iteration 5\n",
      "This is iteration 6\n",
      "This is iteration 7\n",
      "This is iteration 8\n",
      "This is iteration 9\n"
     ]
    }
   ],
   "source": [
    "counter = 0\n",
    "\n",
    "while counter < 10:\n",
    "    \n",
    "    # print a progress message\n",
    "    print(f\"This is iteration {counter}\")\n",
    "    \n",
    "    # increase the counter variable by 1\n",
    "    counter += 1"
   ]
  },
  {
   "cell_type": "markdown",
   "id": "18ab2272",
   "metadata": {},
   "source": [
    "I used an `fprint` function to pass a variable into a string. A similar function is found in many programming languages and does a similar thing. We set off the variable using brackets so that we can update the message as the number changes."
   ]
  },
  {
   "cell_type": "markdown",
   "id": "9d840c6f",
   "metadata": {},
   "source": [
    "## Packages\n",
    "\n",
    "At this point, we have accessed functions in 2 open source packages, `numpy` and `pandas`. Packages are collections of functions that have been created for particular use cases. People write packages to make it easier to perform common functions.\n",
    "\n",
    "Instead of each user writing code for routine analyses, other users have written these functions into a neat, efficient package. All other Python users can import the package and use the functions. \n",
    "\n",
    "This is the beauty of Python being an open source language. Anyone can write and contribute packages, and anyone can access and use them. For more information about how to create your own package, check out the Python <a href=\"https://packaging.python.org/tutorials/packaging-projects/\" target=\"_blank\">documentation</a>. \n",
    "\n",
    "Before importing a package, it must be installed in your Python environment. Packages are installed through the command prompt using <a href=\"https://pypi.org/project/pip/\" target=\"_blank\">pip</a>, Python's package installer. Pip is first installed with itself:\n",
    "\n",
    "`pip install pip`\n",
    "\n",
    "After that, installing packages is straightforward:\n",
    "\n",
    "`pip install package_name`\n",
    "\n",
    "The installation will print out a very long log of the progress, and it often takes several seconds to a few minutes to install. If a package is not available, the solutions are usually package-specific, so searching online for solutions is the best way forward. \n",
    "\n",
    "Anaconda has many common packages pre-installed, so you don't have to manually install packages like numpy and pandas. If you try to import a package that hasn't yet been installed, you will get a clear message in Python. If you use Python for a while, you will notice that packages get updated with bug fixes and new features. Upgrade existing packages with\n",
    "\n",
    "`pip install --upgrade package_name`\n",
    "\n",
    "Remove packages with \n",
    "\n",
    "`pip uninstall package_name`\n",
    "\n",
    "Some of these pip commands may encounter difficulties on Merck laptops because of the restrictions in place on downloadable and modifiable packages. "
   ]
  },
  {
   "cell_type": "markdown",
   "id": "f52e73d3",
   "metadata": {},
   "source": [
    "## Import Statements\n",
    "\n",
    "It is generally a good practice to keep all import statements in a separate cell at the top of a script or Jupyter Notebook. This way, you can check that everything you need is imported before running your analyses. \n",
    "\n",
    "You may have noticed that I imported the packages abbreviated as `np` for `numpy` and `pd` for `pandas`. These are standard abbreviations that nearly everyone uses, and although it is not necessary to use them, code is cleaner: `np.array` vs `numpy.array`."
   ]
  },
  {
   "cell_type": "markdown",
   "id": "50b28ca1",
   "metadata": {},
   "source": [
    "## Getting Help\n",
    "\n",
    "Because Python is open source and is used by so many people, it is very easy to get help on performing different tasks. \n",
    "\n",
    "As mentioned above, <a href=\"https://stackoverflow.com/\" target=\"_blank\">Stack Overflow</a> is a great resource, where developers ask and answer questions. Nearly all common questions have been answered, so if you search how to do a particular task, even if it's as simple as \"how to switch the rows and columns of a dataframe?\", you will get many answers. \n",
    "\n",
    "(the answer to this one is to use the transpose method like so: `my_df.T`)\n",
    "\n",
    "You will inevitably encounter errors while coding in Python. Python prints out reasonably good error messages that almost always identify the line of code that is causing the issue. Sometimes the true issue is in another line of code, but it only manifests when a different line is run. \n",
    "\n",
    "If, after debugging on your own, you can't determine the cause of a bug, searching the web with the exact error message is often  helpful. Sometimes it can even give you suggestions on something that went wrong that you may not have thought of. "
   ]
  },
  {
   "cell_type": "code",
   "execution_count": null,
   "id": "6bc06049",
   "metadata": {},
   "outputs": [],
   "source": []
  }
 ],
 "metadata": {
  "kernelspec": {
   "display_name": "Python 3 (ipykernel)",
   "language": "python",
   "name": "python3"
  },
  "language_info": {
   "codemirror_mode": {
    "name": "ipython",
    "version": 3
   },
   "file_extension": ".py",
   "mimetype": "text/x-python",
   "name": "python",
   "nbconvert_exporter": "python",
   "pygments_lexer": "ipython3",
   "version": "3.8.12"
  }
 },
 "nbformat": 4,
 "nbformat_minor": 5
}
