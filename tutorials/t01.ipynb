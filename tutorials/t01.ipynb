{
 "cells": [
  {
   "cell_type": "markdown",
   "id": "e4a21f69-66a0-4ab3-9eae-bfad73c8a3c5",
   "metadata": {},
   "source": [
    "# T01: Command line basics, Anaconda, and Jupyter Notebooks\n",
    "\n",
    "The command line is an interface into which users type text to execute commands. Commands range in complexity from moving files to running publicly available software. Any function that you do using the graphical user interfaces (GUIs, pronounced “goo-wee”), like Finder on Mac or Windows File Explorer, can be done through the command line.\n",
    "\n",
    "For Mac users, the command line is an application called <b>Terminal</b>. On Windows, it is called the <b>command prompt</b>. In this tutorial, we will learn basic commands for managing files via the command line and install the software <b>Anaconda</b>, which provides an interface to use Python and R and manage data science packages."
   ]
  },
  {
   "cell_type": "markdown",
   "id": "6e8b76c1-095f-418f-a16c-d38bc31b2ff3",
   "metadata": {},
   "source": [
    "## Navigating through directories\n",
    "\n",
    "Directory is a fancy name for a folder. Subdirectories are subfolders. Using the command line, you can easily move through folders on your machine using <b>paths</b>, which are addresses for files. For example, if I have a file called “test.py” in a folder called “Computing” on my desktop, then its file path is `/users/skulkarni/Desktop/Computing.test.py`. Forward (not backward) slashes are used to separate levels of directories. Some common commands are shown below.\n",
    "\n",
    "```bash\n",
    "pwd                                 # Print Working (current) Directory\n",
    "cd Desktop/Computing                # change Current Directory to Desktop/Computing\n",
    "cd ..                               # move one level higher in the directory tree\n",
    "cd ../../../                        # move three levels higher in the directory tree\n",
    "ls                                  # print all files in the current directory\n",
    "cp file_1.txt copy_of_file_1.txt    # make a copy of file_1 called copy_of_file_1\n",
    "mv file_1.txt file_2.txt            # move file_1 to file_2. This also renames files\n",
    "mkdir new_dir                       # create new directory called new_dir\n",
    "rm file_1.txt                       # delete file_1\n",
    "rm -r old_dir                       # delete directory called old_dir\n",
    "cat file_1.txt                      # print the contents of file_1\n",
    "head -5 file_1.txt                  # print the first 5 lines of file_1\n",
    "tail -2 file_2.txt                  # print the last 2 lines of file_2\n",
    "```\n",
    "\n",
    "The list above is not exhaustive, and there are many more complex functions like grep that can help you parse files. These functions are often significantly faster when run on the command line than in Python or R, so it is useful to get familiar with them."
   ]
  },
  {
   "cell_type": "markdown",
   "id": "2d3b282f-418a-465c-8ddc-2a8b74c520ad",
   "metadata": {},
   "source": [
    "## Installing Anaconda\n",
    "\n",
    "To install Anaconda, click the download button for the appropriate operating system here and follow the instructions. If you are using a Linux operating system, then the wget command is your friend since there is no GUI like on Mac OS and Windows. For the most recent version of Anaconda as of writing, run the following on the command line:\n",
    "\n",
    "```bash\n",
    "wget https://repo.continuum.io/archive/Anaconda3-2022.05-Linux-x86_64.sh\n",
    "\n",
    "bash Anaconda3-2022.05-Linux-x86_64.sh\n",
    "```\n",
    "\n",
    "The first line downloads a bash script, and the second runs it to create Anaconda on your machine. No matter which way you download it, Anaconda creates a folder in your home directory that can take up considerable space. IT IS NOT ADVISED TO MODIFY ANYTHING IN THIS FOLDER BECAUSE THINGS CAN EASILY BREAK. Leave the modifications to the package installers.\n",
    "\n",
    "Because O2 is a Linux-based cluster, you will have to use the code above to install Anaconda on it."
   ]
  },
  {
   "cell_type": "markdown",
   "id": "4b547aa1-ed00-4ec9-86ba-ec4b7986508a",
   "metadata": {},
   "source": [
    "## Managing Packages\n",
    "\n",
    "Packages are groups of functions that are shared between users. We can benefit from the expertise of others and avoid writing code to do functions that have already been done. The preferred way to install and manage packages is through Anaconda. To install a package, simply execute the following in the command line, where `package_name` is the name of your desired package:\n",
    "\n",
    "```bash\n",
    "conda install package_name\n",
    "```\n",
    "\n",
    "Anaconda packages are organized into channels. For efficiency, it is best to specify the channel of the desired package, otherwise, Anaconda needs to first search for its location. For example, the bioconda channel contains many packages relevant to biological analysis.\n",
    "\n",
    "```bash\n",
    "conda install -c bioconda samtools\n",
    "```\n",
    "\n",
    "Samtools is a suite of tools for parsing files of sequence alignments. The easiest way to find the channel of a package is simply to google it to find the Anaconda installation paage.\n",
    "\n",
    "Another way to install Python packages is through pip by running `pip install package_name`. Pip can install more packages than conda and requires less time, but it doesn’t check that package versions are compatible with each other, which can cause things to break. It is best to use conda as much as possible and resort to pip if conda can not install a given package. If you are interested in reading more about their differences, check out this <a href=\"https://www.anaconda.com/blog/understanding-conda-and-pip\" target=\"_blank\">comparison article</a>. There are many other <a href=\"https://docs.conda.io/projects/conda/en/latest/user-guide/index.html\" target=\"_blank\">conda</a> and <a href=\"https://pip.pypa.io/en/stable/user_guide/\" target=\"_blank\">pip</a> commands that can be found in the linked user guides."
   ]
  },
  {
   "cell_type": "markdown",
   "id": "0e4eea56-8cf5-4856-bc94-4f0e9ae5c358",
   "metadata": {},
   "source": [
    "# Environments\n",
    "\n",
    "An environment consists of all the packages that have been installed. The default environment is called the base environment. Often when doing multiple projects, it is a good idea to separate your packages into virtual environments. Certain packages are only compatible with certain versions of other packages. To minimize the risk of package inconsistencies, you can install everything you need for a given project in one virtual environment. Virtual environments can be made with conda:\n",
    "\n",
    "```bash\n",
    "(base) % conda create -n new_env           # creates a new environment called new_env\n",
    "(base) % conda activate new_env            # activate new_env, making its packages available\n",
    "(new_env) % conda list                     # print a list of all packages installed in the current (base) environment.\n",
    "(new_env) % conda deactivate               # deactivate new_env and return to the base environment\n",
    "(base) % conda env list                    # print a list of all available conda environments\n",
    "```\n",
    "\n",
    "The name in parentheses in the command line indicates the current environment. In the commands in the previous cells, the environment was `base`, but I didn't show it for simplicity. The official documentation for Anaconda provides a lot more information on <a href=\"https://docs.conda.io/projects/conda/en/latest/user-guide/tasks/manage-environments.html\" target=\"_blank\">managing environments</a>."
   ]
  },
  {
   "cell_type": "markdown",
   "id": "c4f6916f-0549-475d-b902-92589211725a",
   "metadata": {},
   "source": [
    "## Jupyter Notebooks\n",
    "\n",
    "The document you are reading is a Jupyter notebook (or an HTML conversion of one), which is an interactive notebook that can support text, code, and graphics. This type of document is ideal for teaching purposes because code and text descriptions can be interwoven seamlesslely. Jupyter notebooks have the file extension `.ipynb`. \n",
    "\n",
    "The cells in this notebook are all <b>markdown</b> cells, in which you can write plain text, HTML code (i.e. bold face, italics, links, etc.), and mathematical equations in <a href=\"https://www.latex-project.org/\" target=\"_blank\">LaTeX</a> in markdown cells. <b>Code</b> cells are distinct and can run Python or R (but not both in the same notebook). You can check the language at the top right corner of the notebook. In the toolbar at the top, use the dropdown menu to toggle between Markdown, Code, and other cell types.  \n",
    "\n",
    "To use Jupyter notebooks on your computer (local machine), you will need to install Anaconda as above. Once you have <b>Anaconda Navigator</b> installed, you can use the GUI to easily install Jupyter and its dependencies. Usually, you can then start up a notebook using the commands `jupyter notebook` or `jupyter lab`. \n",
    "\n",
    "## Google Colab\n",
    "\n",
    "One of the easiest ways to run code is through Google Colab. Because it runs on external servers, you don't need to install anything on your local machines. However, unless you pay for Google Colab, it deletes all your uploaded files every 12 hours. For long-term use, I would work locally or on a high-performance cluster where things can be safely stored."
   ]
  },
  {
   "cell_type": "code",
   "execution_count": null,
   "id": "47439ffb-b8c0-4719-ac12-c9ad8bebb4bd",
   "metadata": {},
   "outputs": [],
   "source": []
  }
 ],
 "metadata": {
  "kernelspec": {
   "display_name": "Python 3 (ipykernel)",
   "language": "python",
   "name": "python3"
  },
  "language_info": {
   "codemirror_mode": {
    "name": "ipython",
    "version": 3
   },
   "file_extension": ".py",
   "mimetype": "text/x-python",
   "name": "python",
   "nbconvert_exporter": "python",
   "pygments_lexer": "ipython3",
   "version": "3.8.12"
  }
 },
 "nbformat": 4,
 "nbformat_minor": 5
}
