{
 "cells": [
  {
   "cell_type": "markdown",
   "id": "c9bb5c4a-a30d-4d1e-9aad-9432fbce18d1",
   "metadata": {},
   "source": [
    "# T02: Python Basics\n",
    "\n",
    "## Why Use Python?\n",
    "\n",
    "Python is a versatile high-level programming language. It is free, unlike MATLAB, and packages are open-source, which means that anybody can use and create Python tools. Python is ideal for manipulating data in dataframes, performing statistical analyses, and creating plots and graphs (including interactive ones!). It is also very useful in machine learning and image analysis. Because of its intuitive and easy-to-read syntax, Python is a good language for programming beginners."
   ]
  },
  {
   "cell_type": "markdown",
   "id": "cd48bdbf-6794-4948-971b-faf50b9b002e",
   "metadata": {},
   "source": [
    "## Python vs. R\n",
    "\n",
    "Python and R are the languages of choice for data scientists. Many scientists use R because it has been optimized for statistical analysis and data visualization. Python, on the other hand, is a general-purpose language with more functionality and is easier to customize because of its clear syntax. I prefer to use Python and have therefore chosen to write this bootcamp in it. There will be some mentions of easy-to-use features in R, such as plotting phylogenetic trees and running linear models."
   ]
  },
  {
   "cell_type": "markdown",
   "id": "86d8cefa-5968-4a75-8dfa-54de8cee3368",
   "metadata": {},
   "source": [
    "## Arithmetic and Operators\n",
    "\n",
    "Basic arithmetic can be easily performed in Python using the following operators:\n",
    "\n",
    "| Operation| Python symbol|\n",
    "|:--------:|:------------:|\n",
    "|addition |+|\n",
    "|subtraction|-       |\n",
    "|multiplication  |*      |\n",
    "|division | / |\n",
    "|exponentiation | ** |\n",
    "|modulo | % |\n",
    "\n",
    "The operations follow standard order of operations:"
   ]
  },
  {
   "cell_type": "code",
   "execution_count": 1,
   "id": "52df34e7-5fb3-4e06-b57b-dd1be6dc204b",
   "metadata": {},
   "outputs": [
    {
     "data": {
      "text/plain": [
       "-11"
      ]
     },
     "execution_count": 1,
     "metadata": {},
     "output_type": "execute_result"
    }
   ],
   "source": [
    "2 + 3 * 4 - 5**2"
   ]
  },
  {
   "cell_type": "code",
   "execution_count": 2,
   "id": "f9b887e2-72dc-425e-b23e-82fff07234d2",
   "metadata": {},
   "outputs": [
    {
     "data": {
      "text/plain": [
       "-5"
      ]
     },
     "execution_count": 2,
     "metadata": {},
     "output_type": "execute_result"
    }
   ],
   "source": [
    "(2 + 3) * 4 - 5**2"
   ]
  },
  {
   "cell_type": "markdown",
   "id": "efe19ab4-1d36-4504-a3e2-a5d902add94f",
   "metadata": {},
   "source": [
    "If you run the code above, the values are shown. If you run multiple lines in the same code cell, you must use the `print()` function to view them all. If not, only the last output is shown. Functions are called with arguments (inputs) inside parentheses like so:"
   ]
  },
  {
   "cell_type": "code",
   "execution_count": 3,
   "id": "0efa86a5-7674-485b-bdab-5ac5559ba1e9",
   "metadata": {},
   "outputs": [
    {
     "data": {
      "text/plain": [
       "-5"
      ]
     },
     "execution_count": 3,
     "metadata": {},
     "output_type": "execute_result"
    }
   ],
   "source": [
    "2 + 3 * 4 - 5**2\n",
    "(2 + 3) * 4 - 5**2"
   ]
  },
  {
   "cell_type": "code",
   "execution_count": 4,
   "id": "274d6e7e-ab54-40d0-97b3-eccff92ef096",
   "metadata": {},
   "outputs": [
    {
     "name": "stdout",
     "output_type": "stream",
     "text": [
      "-11\n",
      "-5\n"
     ]
    }
   ],
   "source": [
    "print(2 + 3 * 4 - 5**2)\n",
    "print((2 + 3) * 4 - 5**2)"
   ]
  },
  {
   "cell_type": "markdown",
   "id": "0568b268-8620-4729-ab36-a9d17c3bc6ef",
   "metadata": {},
   "source": [
    "## Types of Python objects\n",
    "\n",
    "Python objects have different types. The main types are strings, integers (ints), floats, and booleans. \n",
    "\n",
    "<ul>\n",
    "    <li><b>Strings</b> are sequences of characters and are surrounded by quotes. Characters can include not only letters, but also numbers and symbols such as punctuation and spaces. Examples of strings include 'cat', 'The dog is happy!', and 'asdf1234!! !@#^&'. </li>\n",
    "    <li><b>Ints</b> are integers such as 1, 2, 3, 512, 87743, and -3432178. </li>\n",
    "    <li><b>Floats</b> are decimals, also known as floating point numbers. Examples of floats include 1.5, 3.141592654, 112.0, and -32.018. </li>\n",
    "    <li><b>Booleans</b> can be either True or False.</li>\n",
    "</ul>\n",
    "\n",
    "If you convert a float to an integer, it will be rounded:"
   ]
  },
  {
   "cell_type": "code",
   "execution_count": 5,
   "id": "351973d4-c011-43b6-a40d-662d44749ec5",
   "metadata": {},
   "outputs": [
    {
     "data": {
      "text/plain": [
       "4"
      ]
     },
     "execution_count": 5,
     "metadata": {},
     "output_type": "execute_result"
    }
   ],
   "source": [
    "int(4.3)"
   ]
  },
  {
   "cell_type": "code",
   "execution_count": 6,
   "id": "e36382e6-e7d0-42a8-bb51-56f7c8bb8660",
   "metadata": {},
   "outputs": [
    {
     "data": {
      "text/plain": [
       "4"
      ]
     },
     "execution_count": 6,
     "metadata": {},
     "output_type": "execute_result"
    }
   ],
   "source": [
    "round(4.3)"
   ]
  },
  {
   "cell_type": "markdown",
   "id": "fde1afef-61cd-4270-bcdb-1974c877ebe8",
   "metadata": {},
   "source": [
    "We can see the type of an object using the `type()` function."
   ]
  },
  {
   "cell_type": "code",
   "execution_count": 7,
   "id": "44784705-4070-4c6d-bf02-0e8d1450dff9",
   "metadata": {},
   "outputs": [
    {
     "data": {
      "text/plain": [
       "str"
      ]
     },
     "execution_count": 7,
     "metadata": {},
     "output_type": "execute_result"
    }
   ],
   "source": [
    "type('hi')"
   ]
  },
  {
   "cell_type": "code",
   "execution_count": 8,
   "id": "c4543230-26c2-4436-8c2d-cac61eb4c180",
   "metadata": {},
   "outputs": [
    {
     "data": {
      "text/plain": [
       "float"
      ]
     },
     "execution_count": 8,
     "metadata": {},
     "output_type": "execute_result"
    }
   ],
   "source": [
    "type(15.8)"
   ]
  },
  {
   "cell_type": "code",
   "execution_count": 9,
   "id": "5096c387-f9eb-4bed-8137-1613e5c4ee96",
   "metadata": {},
   "outputs": [
    {
     "data": {
      "text/plain": [
       "int"
      ]
     },
     "execution_count": 9,
     "metadata": {},
     "output_type": "execute_result"
    }
   ],
   "source": [
    "type(10)"
   ]
  },
  {
   "cell_type": "markdown",
   "id": "959ca956-095e-4c98-88e7-de09aa7ab379",
   "metadata": {},
   "source": [
    "Strings can be added together, which concatenates them. This will include all special characters and any whitespace in them. The other operations can not be performed on strings because they don’t make sense."
   ]
  },
  {
   "cell_type": "code",
   "execution_count": 10,
   "id": "a6fa4fe0-5454-4891-8734-88f570e5bbc0",
   "metadata": {},
   "outputs": [
    {
     "data": {
      "text/plain": [
       "'Hello world'"
      ]
     },
     "execution_count": 10,
     "metadata": {},
     "output_type": "execute_result"
    }
   ],
   "source": [
    "'Hello' + ' world'"
   ]
  },
  {
   "cell_type": "markdown",
   "id": "987699fd-b017-4ee8-929f-59410cb80c5a",
   "metadata": {},
   "source": [
    "Strings can be denoted by single, double, or triple quotes. This allows you to nest quotes inside of strings"
   ]
  },
  {
   "cell_type": "code",
   "execution_count": 11,
   "id": "9943e47d-1a70-446d-93f6-014361c46308",
   "metadata": {},
   "outputs": [
    {
     "name": "stdout",
     "output_type": "stream",
     "text": [
      "This is a sentence with single quotes\n",
      "This is a sentence with double quotes\n",
      "This is a sentence with triple quotes\n",
      "This is also a sentence with triple quotes \n",
      "\n",
      "I told my friend, 'learn Python!' \n",
      "\n"
     ]
    }
   ],
   "source": [
    "print('This is a sentence with single quotes')\n",
    "print(\"This is a sentence with double quotes\")\n",
    "print('''This is a sentence with triple quotes''')\n",
    "print(\"\"\"This is also a sentence with triple quotes \\n\"\"\")\n",
    "\n",
    "# create a string with quotes inside it\n",
    "print(\"I told my friend, 'learn Python!' \\n\")"
   ]
  },
  {
   "cell_type": "markdown",
   "id": "cc2efd5b-f7b1-4862-856c-b433d52cc277",
   "metadata": {},
   "source": [
    "In the above cell, I wrote a <b>comment</b>, which starts with the <b>#</b> character. Comments allow you to write notes or descriptions within code cells, but they are not run as code. Writing comments is a good practice so that others (or future you) know why you wrote certain code. \n",
    "\n",
    "I also included <b>newline characters</b> in the last 2 quotes. As the name suggests, this creates a line break and improves the readability of your code.\n",
    "\n",
    "## Lists, Arrays, and Dictionaries\n",
    "\n",
    "When programming, we often work with many related pieces of data. To be organized and efficient, we store them within a single variable called a <b>data structure.</b> This way, we can efficiently perform operations on the data structure as a whole rather than having to operate on each piece of data as a separate variable.\n",
    "\n",
    "We will primarily be using 3 types of data structures: lists, dictionaries, and arrays.\n",
    "<ul>\n",
    "<li><b>Lists</b> store pieces of data in a sequence, so that data can be referenced by its index in the list.</li>\n",
    "  <li><b>Dictionaries</b> store pieces of data under labels called <i>keys</i>, so that data can be referenced its key in the dictionary.</li>\n",
    "<li><b>Arrays</b> store data in matrices and higher-dimensional matrices called <i>tensors</i>, so that data can be referenced by its index in the matrix or tensor.</li>\n",
    "</ul>\n",
    "\n",
    "A list can contain elements of different types, but an array can only have elements with the same type. Arrays are most commonly created using the `numpy` (pronounced num-pie) package. A <b>variable</b> is a symbolic name used to store an object. To create a variable, simply assign an object to a name.\n",
    "\n",
    "Lists are set off by brackets and dictionaries with braces."
   ]
  },
  {
   "cell_type": "code",
   "execution_count": 12,
   "id": "5120bde6-d12f-4bea-85fa-3319fc3e234c",
   "metadata": {},
   "outputs": [],
   "source": [
    "my_list = [1, 2, 'apple', False]"
   ]
  },
  {
   "cell_type": "markdown",
   "id": "ae515979-f5bd-4d1f-acf5-c54eb3046c70",
   "metadata": {},
   "source": [
    "Here, I have created a list with multiple data types. We can call the `type()` function on it."
   ]
  },
  {
   "cell_type": "code",
   "execution_count": 13,
   "id": "2b9be0d9-1cc3-4f8d-bda3-b60d02fc9607",
   "metadata": {},
   "outputs": [
    {
     "data": {
      "text/plain": [
       "list"
      ]
     },
     "execution_count": 13,
     "metadata": {},
     "output_type": "execute_result"
    }
   ],
   "source": [
    "type(my_list)"
   ]
  },
  {
   "cell_type": "markdown",
   "id": "63a9551e-a8b6-4ad7-ba60-abf846a3947f",
   "metadata": {},
   "source": [
    "Lists can be concatenated by adding them together:"
   ]
  },
  {
   "cell_type": "code",
   "execution_count": 14,
   "id": "b22fea75-f250-41cf-8983-3d92fa234628",
   "metadata": {},
   "outputs": [
    {
     "data": {
      "text/plain": [
       "[1, 2, 'apple', False, 'where', 50, True]"
      ]
     },
     "execution_count": 14,
     "metadata": {},
     "output_type": "execute_result"
    }
   ],
   "source": [
    "my_other_list = [\"where\", 50, True]\n",
    "big_list = my_list + my_other_list\n",
    "big_list"
   ]
  },
  {
   "cell_type": "markdown",
   "id": "2e5a3bfe-6c51-48d8-ad64-232e57839683",
   "metadata": {},
   "source": [
    "To create a numpy array, first import the numpy package, then create the array. Most people assign the `numpy` package to the short form `np`."
   ]
  },
  {
   "cell_type": "code",
   "execution_count": 15,
   "id": "1e24d823-7109-4021-9d91-46a9090835c1",
   "metadata": {},
   "outputs": [
    {
     "data": {
      "text/plain": [
       "numpy.ndarray"
      ]
     },
     "execution_count": 15,
     "metadata": {},
     "output_type": "execute_result"
    }
   ],
   "source": [
    "# first import the package\n",
    "import numpy as np\n",
    "\n",
    "# next, create an array and assign it to a variable\n",
    "my_array = np.array([1, 2, 3])\n",
    "type(my_array)"
   ]
  },
  {
   "cell_type": "markdown",
   "id": "ffbcf2a9-a84c-40f4-8fca-da10b3724c7e",
   "metadata": {},
   "source": [
    "## Indexing\n",
    "\n",
    "To get items from a list or array, we use <b>indexing</b>. Python uses <i>0-indexing</i>. This means that the first element in a list or array is at position 0. In a list of 10 elements, the last element is at position 9. We use indexing to extract elements at particular positions.\n",
    "\n",
    "Indexing can also run in the reverse direction. The index -1 is the last element, -2 is the second to last element, and so on and so forth. So we can get the last element using indices -1 or 2."
   ]
  },
  {
   "cell_type": "code",
   "execution_count": 16,
   "id": "6f61f553-fa28-4f7f-9291-354b9aebe5eb",
   "metadata": {},
   "outputs": [
    {
     "name": "stdout",
     "output_type": "stream",
     "text": [
      "False\n",
      "50\n"
     ]
    }
   ],
   "source": [
    "# prints the 4th element\n",
    "print(big_list[3])\n",
    "\n",
    "# prints the second to last element\n",
    "print(big_list[-2])"
   ]
  },
  {
   "cell_type": "markdown",
   "id": "720690d2-c0f9-41c9-8303-d26f9891c8fb",
   "metadata": {},
   "source": [
    "You can also get multiple elements at a time, instead of just one. This is done using <b>slicing</b>. To slice a data structure, separate the first and last indices by a `:` character. But in 0-indexing, THE END POINT IS EXCLUSIVE. So if you slice `3:9`, you will get elements from the 3rd index to the 8th index (4th through 9th elements). \n",
    "\n",
    "**Note: R uses 1-indexing, where the first element has an index of 1, and both start and end points are inclusive. Beware of this difference between Python and R.**"
   ]
  },
  {
   "cell_type": "code",
   "execution_count": 17,
   "id": "98449460-e319-41ca-a70f-9f2c71a4523a",
   "metadata": {},
   "outputs": [
    {
     "data": {
      "text/plain": [
       "['apple', False, 'where']"
      ]
     },
     "execution_count": 17,
     "metadata": {},
     "output_type": "execute_result"
    }
   ],
   "source": [
    "# 3rd through 5th elements\n",
    "big_list[2:5]"
   ]
  },
  {
   "cell_type": "markdown",
   "id": "bf6fbd3e-5888-4bbf-9471-17af79a8218a",
   "metadata": {},
   "source": [
    "If you omit either the start or end points, slicing will by default start at the beginning or end of the data structure. You can also reverse lists and arrays and get every nth element using slicing syntax."
   ]
  },
  {
   "cell_type": "code",
   "execution_count": 18,
   "id": "6009dfbd-86b7-4192-be63-474924d427e2",
   "metadata": {},
   "outputs": [
    {
     "data": {
      "text/plain": [
       "[1, 2, 'apple', False]"
      ]
     },
     "execution_count": 18,
     "metadata": {},
     "output_type": "execute_result"
    }
   ],
   "source": [
    "# get all elements starting at the beginning and ending at the 3rd index\n",
    "big_list[:4]"
   ]
  },
  {
   "cell_type": "code",
   "execution_count": 19,
   "id": "59921a81-949a-480c-be60-1d7c828c4d08",
   "metadata": {},
   "outputs": [
    {
     "data": {
      "text/plain": [
       "array([3, 2, 1])"
      ]
     },
     "execution_count": 19,
     "metadata": {},
     "output_type": "execute_result"
    }
   ],
   "source": [
    "# reverse an array\n",
    "my_array[::-1]"
   ]
  },
  {
   "cell_type": "code",
   "execution_count": 20,
   "id": "9d5f5b66-686d-4fad-b97c-0c9fe6adb38b",
   "metadata": {},
   "outputs": [
    {
     "name": "stdout",
     "output_type": "stream",
     "text": [
      "[1, False, True]\n",
      "[True, 'where', 'apple', 1]\n"
     ]
    }
   ],
   "source": [
    "# get every 3rd element starting with the first element\n",
    "print(big_list[::3])\n",
    "\n",
    "# get every 3nd element starting with the first element, then reverse it\n",
    "print(big_list[::2][::-1])"
   ]
  },
  {
   "cell_type": "markdown",
   "id": "c0bc0238-7c2a-4ecb-bb74-d0299d6310b0",
   "metadata": {},
   "source": [
    "A dictionary is a set of pairs of data in a lookup table. Each pair is a <b>key, value</b> pair, and you access a value with its corresponding key."
   ]
  },
  {
   "cell_type": "code",
   "execution_count": 21,
   "id": "58e608da-9090-405a-9e23-d0c1537e1a25",
   "metadata": {},
   "outputs": [
    {
     "data": {
      "text/plain": [
       "'March'"
      ]
     },
     "execution_count": 21,
     "metadata": {},
     "output_type": "execute_result"
    }
   ],
   "source": [
    "my_dict = {1:\"January\", 2:\"February\", 3:\"March\", 4:\"April\", 5:\"May\", 6:\"June\"}\n",
    "\n",
    "# get the third value\n",
    "my_dict[3]"
   ]
  },
  {
   "cell_type": "markdown",
   "id": "3abf5ff9-a898-4c41-aee1-cb351861ad06",
   "metadata": {},
   "source": [
    "You add key, value pairs and modify existing values using similar syntax:"
   ]
  },
  {
   "cell_type": "code",
   "execution_count": 22,
   "id": "34a2307e-6496-4482-86db-a85de1fd3044",
   "metadata": {},
   "outputs": [
    {
     "name": "stdout",
     "output_type": "stream",
     "text": [
      "{1: 'December', 2: 'February', 3: 'March', 4: 'April', 5: 'May', 6: 'June', 7: 'July'}\n"
     ]
    }
   ],
   "source": [
    "# add another key, value pair\n",
    "my_dict[7] = \"July\"\n",
    "\n",
    "# change an existing one\n",
    "my_dict[1] = \"December\"\n",
    "\n",
    "print(my_dict)"
   ]
  },
  {
   "cell_type": "markdown",
   "id": "3db632e1-9d14-4123-8d28-06bdefccb681",
   "metadata": {},
   "source": [
    "## Logic and Conditional Statements\n",
    "\n",
    "Conditional statements are important for deciding how to proceed when a certain condition is met. For example, you may want to compute a mean and standard deviation if your data is normally distributed, and compute the median and range if the data are not. \n",
    "\n",
    "To perform comparisons, there are several types of operators, which return <b>booleans</b>. The following table shows <b>comparison operators</b>, which compare two values:\n",
    "\n",
    "| Operator| Meaning|\n",
    "|:--------:|:------------:|\n",
    "|== | equal to|\n",
    "|!= | not equal to |\n",
    "|>| greater than       |\n",
    "|<  | less than      |\n",
    "|>= | greater than or equal to |\n",
    "|<= | less than or equal to |"
   ]
  },
  {
   "cell_type": "code",
   "execution_count": 23,
   "id": "890c1d83-9bde-454a-ae29-4cede417505e",
   "metadata": {},
   "outputs": [
    {
     "data": {
      "text/plain": [
       "False"
      ]
     },
     "execution_count": 23,
     "metadata": {},
     "output_type": "execute_result"
    }
   ],
   "source": [
    "x = 10\n",
    "y = 5\n",
    "x > 10"
   ]
  },
  {
   "cell_type": "markdown",
   "id": "dc46b559-61fb-4503-b4d8-d56aa588a260",
   "metadata": {},
   "source": [
    "You can also compare two statements using <b>and</b>, <b>or</b>, and <b>not</b>."
   ]
  },
  {
   "cell_type": "code",
   "execution_count": 24,
   "id": "d5852902-88d7-4ac7-ad9c-7a1160d61716",
   "metadata": {},
   "outputs": [
    {
     "data": {
      "text/plain": [
       "False"
      ]
     },
     "execution_count": 24,
     "metadata": {},
     "output_type": "execute_result"
    }
   ],
   "source": [
    "x > 5 and y > 5"
   ]
  },
  {
   "cell_type": "markdown",
   "id": "25d256f0-cf32-4161-8836-f36940cd05a8",
   "metadata": {},
   "source": [
    "This following statement returns False because both statements are not true. But the next one returns True because at least one statement needs to be true for OR logic to be true."
   ]
  },
  {
   "cell_type": "code",
   "execution_count": 25,
   "id": "a2a9125b-046b-4095-b870-8bd026d649a4",
   "metadata": {},
   "outputs": [
    {
     "data": {
      "text/plain": [
       "True"
      ]
     },
     "execution_count": 25,
     "metadata": {},
     "output_type": "execute_result"
    }
   ],
   "source": [
    "x > 5 or y > 5"
   ]
  },
  {
   "cell_type": "markdown",
   "id": "5d6f49b4-f4ec-45e5-aa11-c491a75abd80",
   "metadata": {},
   "source": [
    "The not operator returns the negative of the statement. So we can convert the AND statment to `True` and the OR statement to `False`:"
   ]
  },
  {
   "cell_type": "code",
   "execution_count": 28,
   "id": "a648edeb-03be-4f45-85dd-0537791a00b1",
   "metadata": {},
   "outputs": [
    {
     "name": "stdout",
     "output_type": "stream",
     "text": [
      "True\n",
      "False\n"
     ]
    }
   ],
   "source": [
    "print(not(x > 5 and y > 5))\n",
    "print(not(x > 5 or y > 5))"
   ]
  },
  {
   "cell_type": "markdown",
   "id": "3e135c56-9f12-412d-8cca-6847d531da6f",
   "metadata": {},
   "source": [
    "## If Statements\n",
    "\n",
    "Now that we can perform comparisons, we are ready to build conditional statements. In Python, this is usually done with <b>if statements</b>, which are structured as follows:"
   ]
  },
  {
   "cell_type": "code",
   "execution_count": 33,
   "id": "def1b0ed-c721-4c6c-a904-5b8f53ca441e",
   "metadata": {},
   "outputs": [],
   "source": [
    "if y > x:\n",
    "    print(\"y is larger than x!\")"
   ]
  },
  {
   "cell_type": "markdown",
   "id": "0ccdec22-0711-49e8-9645-c58f2b1db82c",
   "metadata": {},
   "source": [
    "The statement above doesn't print anything because the if statement was not true. If we want an output if the statement is false, then we combine it with <b>else</b> and <b>elif</b> statements:"
   ]
  },
  {
   "cell_type": "code",
   "execution_count": 34,
   "id": "adb11514-3cf7-4379-954b-7c4cd598cb2b",
   "metadata": {},
   "outputs": [
    {
     "name": "stdout",
     "output_type": "stream",
     "text": [
      "x is larger than y!\n"
     ]
    }
   ],
   "source": [
    "if y > x:\n",
    "    print(\"y is larger than x!\")\n",
    "elif x > y:\n",
    "    print(\"x is larger than y!\")\n",
    "else:\n",
    "    print(\"x and y are equal!\")"
   ]
  },
  {
   "cell_type": "markdown",
   "id": "9317b7c7-1e07-4399-b74e-15f1ec36714e",
   "metadata": {},
   "source": [
    "In an if-elif-else statement, <b>if</b> the first condition is met, the code in the indented block after it is executed. <b>elif</b> is short for <b>else-if</b>. If the conditional in the preceding <b>if</b> statement is False, then the Python interpreter evaluates the conditional in the <b>elif</b> statement. If neither statement is true, then the code in the <b>else</b> block is evaluated. \n",
    "\n",
    "You can include many <b>elif</b> blocks in a single if-elif-else statement, but only a single else block. You can also have an if-elif or an if-else statement:"
   ]
  },
  {
   "cell_type": "code",
   "execution_count": 36,
   "id": "5050d02f-1b28-4e7e-aeb4-68a2ec7e06d1",
   "metadata": {},
   "outputs": [
    {
     "name": "stdout",
     "output_type": "stream",
     "text": [
      "x is larger than y!\n"
     ]
    }
   ],
   "source": [
    "if y > x:\n",
    "    print(\"y is larger than x!\")\n",
    "elif x > y:\n",
    "    print(\"x is larger than y!\")"
   ]
  },
  {
   "cell_type": "code",
   "execution_count": 37,
   "id": "e166ad9b-44a3-4d6f-b68f-f137e0716da4",
   "metadata": {},
   "outputs": [
    {
     "name": "stdout",
     "output_type": "stream",
     "text": [
      "y is less than or equal to x!\n"
     ]
    }
   ],
   "source": [
    "if y > x:\n",
    "    print(\"y is larger than x!\")\n",
    "else:\n",
    "    print(\"y is less than or equal to x!\")"
   ]
  },
  {
   "cell_type": "markdown",
   "id": "36e88462-43bd-4df4-af74-d69834fac3aa",
   "metadata": {},
   "source": [
    "If you have multiple if statements, they are evaluated as separate conditionals:"
   ]
  },
  {
   "cell_type": "code",
   "execution_count": 39,
   "id": "d6f5333e-5bf3-474e-81f5-135919554c39",
   "metadata": {},
   "outputs": [
    {
     "name": "stdout",
     "output_type": "stream",
     "text": [
      "y is less than or equal to x!\n",
      "y is an integer\n"
     ]
    }
   ],
   "source": [
    "# check if y is less than or equal to x\n",
    "if y <= x:\n",
    "    print(\"y is less than or equal to x!\")\n",
    "    \n",
    "# see if y is an int\n",
    "if type(y) == int:\n",
    "    print(\"y is an integer\")"
   ]
  },
  {
   "cell_type": "markdown",
   "id": "377e6caa-9e73-4cbd-8dfa-b64efa76eef6",
   "metadata": {},
   "source": [
    "## Built-in Functions\n",
    "\n",
    "We have already been using the `type()` and `print()` functions, which are <b>built-in</b> Python functions. `len()` is another example, which returns the length of an object."
   ]
  },
  {
   "cell_type": "code",
   "execution_count": 40,
   "id": "f2751fa4-c062-43b2-b24b-864910ffadc6",
   "metadata": {},
   "outputs": [
    {
     "name": "stdout",
     "output_type": "stream",
     "text": [
      "19\n",
      "7\n",
      "7\n"
     ]
    }
   ],
   "source": [
    "# length of a string is the number of characters, including whitespace and special characters\n",
    "print(len(\"hello, how are you?\"))\n",
    "\n",
    "# length of an array or list is the number of elements\n",
    "print(len(big_list))\n",
    "\n",
    "# length of a dictionary is the number of key, value pairs\n",
    "print(len(my_dict))"
   ]
  },
  {
   "cell_type": "markdown",
   "id": "151ec8f6-37ec-4d85-a190-bbe286665697",
   "metadata": {},
   "source": [
    "`range()`, `enumerate()`, `zip()`, and `list()` are other common built-in functions. In the next tutorial, we will learn how to write your own functions."
   ]
  },
  {
   "cell_type": "code",
   "execution_count": null,
   "id": "6fb882bb-e8ee-47e4-938b-c151190d5847",
   "metadata": {},
   "outputs": [],
   "source": []
  }
 ],
 "metadata": {
  "kernelspec": {
   "display_name": "Python 3 (ipykernel)",
   "language": "python",
   "name": "python3"
  },
  "language_info": {
   "codemirror_mode": {
    "name": "ipython",
    "version": 3
   },
   "file_extension": ".py",
   "mimetype": "text/x-python",
   "name": "python",
   "nbconvert_exporter": "python",
   "pygments_lexer": "ipython3",
   "version": "3.8.12"
  }
 },
 "nbformat": 4,
 "nbformat_minor": 5
}
