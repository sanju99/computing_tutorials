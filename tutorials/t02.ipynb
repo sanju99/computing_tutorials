{
 "cells": [
  {
   "cell_type": "markdown",
   "id": "c9bb5c4a-a30d-4d1e-9aad-9432fbce18d1",
   "metadata": {},
   "source": [
    "# T02: Python Basics\n",
    "\n",
    "## Why Use Python?\n",
    "\n",
    "Python is a versatile high-level programming language. It is free, unlike MATLAB, and packages are open-source, which means that anybody can use and create Python tools. Python is ideal for manipulating data in dataframes, performing statistical analyses, and creating plots and graphs (including interactive ones). It is also very useful in machine learning and image analysis. Because of its intuitive and easy-to-read syntax, Python is a good language for programming beginners."
   ]
  },
  {
   "cell_type": "markdown",
   "id": "cd48bdbf-6794-4948-971b-faf50b9b002e",
   "metadata": {},
   "source": [
    "## Python vs. R\n",
    "\n",
    "Python and R are the languages of choice for data scientists. Many scientists use R for data cleaning and visualization because it has been optimized for statistical analysis and data visualization. Python, on the other hand, is a general-purpose language with more functionality and is easier to customize because of its clear syntax. I prefer to use Python and have therefore chosen to write this bootcamp in it. There will be some mentions of easy-to-use features in R, such as plotting phylogenetic trees and running linear models."
   ]
  },
  {
   "cell_type": "markdown",
   "id": "86d8cefa-5968-4a75-8dfa-54de8cee3368",
   "metadata": {},
   "source": [
    "## Arithmetic and Operators\n",
    "\n",
    "Basic arithmetic can be easily performed in Python using the following operators:\n",
    "\n",
    "| Operation| Python symbol|\n",
    "|:--------:|:------------:|\n",
    "|addition |+|\n",
    "|subtraction|-       |\n",
    "|multiplication  |*      |\n",
    "|division | / |\n",
    "|exponentiation | ** |\n",
    "|modulo | % |\n",
    "\n",
    "The operations follow standard order of operations, like in the rest of mathematics. For example:"
   ]
  },
  {
   "cell_type": "code",
   "execution_count": 1,
   "id": "52df34e7-5fb3-4e06-b57b-dd1be6dc204b",
   "metadata": {},
   "outputs": [
    {
     "data": {
      "text/plain": [
       "-11"
      ]
     },
     "execution_count": 1,
     "metadata": {},
     "output_type": "execute_result"
    }
   ],
   "source": [
    "2 + 3 * 4 - 5**2"
   ]
  },
  {
   "cell_type": "code",
   "execution_count": 2,
   "id": "f9b887e2-72dc-425e-b23e-82fff07234d2",
   "metadata": {},
   "outputs": [
    {
     "data": {
      "text/plain": [
       "-5"
      ]
     },
     "execution_count": 2,
     "metadata": {},
     "output_type": "execute_result"
    }
   ],
   "source": [
    "(2 + 3) * 4 - 5**2"
   ]
  },
  {
   "cell_type": "markdown",
   "id": "efe19ab4-1d36-4504-a3e2-a5d902add94f",
   "metadata": {},
   "source": [
    "If you run the code above, the values are shown. If you run multiple lines in the same code cell, you must use the `print()` function to view them all. If not, only the last output is shown. Functions are called with arguments (inputs) inside parentheses like so:"
   ]
  },
  {
   "cell_type": "code",
   "execution_count": 3,
   "id": "0efa86a5-7674-485b-bdab-5ac5559ba1e9",
   "metadata": {},
   "outputs": [
    {
     "data": {
      "text/plain": [
       "-5"
      ]
     },
     "execution_count": 3,
     "metadata": {},
     "output_type": "execute_result"
    }
   ],
   "source": [
    "2 + 3 * 4 - 5**2\n",
    "(2 + 3) * 4 - 5**2"
   ]
  },
  {
   "cell_type": "code",
   "execution_count": 4,
   "id": "274d6e7e-ab54-40d0-97b3-eccff92ef096",
   "metadata": {},
   "outputs": [
    {
     "name": "stdout",
     "output_type": "stream",
     "text": [
      "-11\n",
      "-5\n"
     ]
    }
   ],
   "source": [
    "print(2 + 3 * 4 - 5**2)\n",
    "print((2 + 3) * 4 - 5**2)"
   ]
  },
  {
   "cell_type": "markdown",
   "id": "0568b268-8620-4729-ab36-a9d17c3bc6ef",
   "metadata": {},
   "source": [
    "## Types of Python objects\n",
    "\n",
    "Python objects have different types. The main types are strings, integers (ints), floats, and booleans. \n",
    "\n",
    "<ul>\n",
    "    <li><b>Strings</b> are sequences of characters and are surrounded by quotes. Characters can include not only letters, but also numbers and symbols such as punctuation and spaces. Examples of strings include 'cat', 'The dog is happy!', and 'asdf1234!! !@#^&'. </li>\n",
    "    <li><b>Ints</b> are integers such as 1, 2, 3, 512, 87743, and -3432178. </li>\n",
    "    <li><b>Floats</b> are decimals, also known as floating point numbers. Examples of floats include 1.5, 3.141592654, 112.0, and -32.018. </li>\n",
    "    <li><b>Booleans</b> can be either True or False.</li>\n",
    "</ul>\n",
    "\n",
    "If you convert a float to an integer, it will be rounded:"
   ]
  },
  {
   "cell_type": "code",
   "execution_count": 5,
   "id": "351973d4-c011-43b6-a40d-662d44749ec5",
   "metadata": {},
   "outputs": [
    {
     "data": {
      "text/plain": [
       "4"
      ]
     },
     "execution_count": 5,
     "metadata": {},
     "output_type": "execute_result"
    }
   ],
   "source": [
    "int(4.3)"
   ]
  },
  {
   "cell_type": "code",
   "execution_count": 7,
   "id": "e36382e6-e7d0-42a8-bb51-56f7c8bb8660",
   "metadata": {},
   "outputs": [
    {
     "data": {
      "text/plain": [
       "4"
      ]
     },
     "execution_count": 7,
     "metadata": {},
     "output_type": "execute_result"
    }
   ],
   "source": [
    "round(4.3)"
   ]
  },
  {
   "cell_type": "markdown",
   "id": "fde1afef-61cd-4270-bcdb-1974c877ebe8",
   "metadata": {},
   "source": [
    "We can see the type of an object using the `type()` function."
   ]
  },
  {
   "cell_type": "code",
   "execution_count": 16,
   "id": "44784705-4070-4c6d-bf02-0e8d1450dff9",
   "metadata": {},
   "outputs": [
    {
     "data": {
      "text/plain": [
       "str"
      ]
     },
     "execution_count": 16,
     "metadata": {},
     "output_type": "execute_result"
    }
   ],
   "source": [
    "type('hi')"
   ]
  },
  {
   "cell_type": "code",
   "execution_count": 17,
   "id": "c4543230-26c2-4436-8c2d-cac61eb4c180",
   "metadata": {},
   "outputs": [
    {
     "data": {
      "text/plain": [
       "float"
      ]
     },
     "execution_count": 17,
     "metadata": {},
     "output_type": "execute_result"
    }
   ],
   "source": [
    "type(15.8)"
   ]
  },
  {
   "cell_type": "code",
   "execution_count": 18,
   "id": "5096c387-f9eb-4bed-8137-1613e5c4ee96",
   "metadata": {},
   "outputs": [
    {
     "data": {
      "text/plain": [
       "int"
      ]
     },
     "execution_count": 18,
     "metadata": {},
     "output_type": "execute_result"
    }
   ],
   "source": [
    "type(10)"
   ]
  },
  {
   "cell_type": "markdown",
   "id": "959ca956-095e-4c98-88e7-de09aa7ab379",
   "metadata": {},
   "source": [
    "Strings can be added together, which concatenates them. This will include all special characters and any whitespace in them. The other operations can not be performed on strings because they don’t make sense."
   ]
  },
  {
   "cell_type": "code",
   "execution_count": 9,
   "id": "a6fa4fe0-5454-4891-8734-88f570e5bbc0",
   "metadata": {},
   "outputs": [
    {
     "data": {
      "text/plain": [
       "'Hello world'"
      ]
     },
     "execution_count": 9,
     "metadata": {},
     "output_type": "execute_result"
    }
   ],
   "source": [
    "'Hello' + ' world'"
   ]
  },
  {
   "cell_type": "markdown",
   "id": "987699fd-b017-4ee8-929f-59410cb80c5a",
   "metadata": {},
   "source": [
    "Strings can be denoted by single, double, or triple quotes. This allows you to nest quotes inside of strings"
   ]
  },
  {
   "cell_type": "code",
   "execution_count": 26,
   "id": "9943e47d-1a70-446d-93f6-014361c46308",
   "metadata": {},
   "outputs": [
    {
     "name": "stdout",
     "output_type": "stream",
     "text": [
      "This is a sentence with single quotes\n",
      "This is a sentence with double quotes\n",
      "This is a sentence with triple quotes\n",
      "This is also a sentence with triple quotes \n",
      " hi\n",
      "I told my friend, 'learn Python!' \n",
      "\n"
     ]
    }
   ],
   "source": [
    "print('This is a sentence with single quotes')\n",
    "print(\"This is a sentence with double quotes\")\n",
    "print('''This is a sentence with triple quotes''')\n",
    "print(\"\"\"This is also a sentence with triple quotes \\n hi\"\"\")\n",
    "\n",
    "# create a string with quotes inside it\n",
    "print(\"I told my friend, 'learn Python!' \\n\")"
   ]
  },
  {
   "cell_type": "markdown",
   "id": "cc2efd5b-f7b1-4862-856c-b433d52cc277",
   "metadata": {},
   "source": [
    "In the above cell, I wrote a <b>comment</b>, which starts with the <b>#</b> character. Comments allow you to write notes or descriptions within code cells, but they are not run as code. Writing comments is a good practice so that others (or future you) know why you wrote certain code. \n",
    "\n",
    "I also included <b>newline characters</b> in the last 2 quotes. As the name suggests, this creates a line break and improves the readability of your code.\n",
    "\n",
    "## Variables, Lists, Arrays, and Dictionaries\n",
    "\n",
    "When programming, we often work with many related pieces of data. To be organized and efficient, we store them within a single variable called a <b>data structure.</b> This way, we can efficiently perform operations on the data structure as a whole rather than having to operate on each piece of data as a separate variable.\n",
    "\n",
    "We will primarily be using 3 types of data structures: lists, dictionaries, and arrays.\n",
    "<ul>\n",
    "<li><b>Lists</b> store pieces of data in a sequence, so that data can be referenced by its index in the list.</li>\n",
    "  <li><b>Dictionaries</b> store pieces of data under labels called <i>keys</i>, so that data can be referenced its key in the dictionary.</li>\n",
    "<li><b>Arrays</b> store data in matrices and higher-dimensional matrices called <i>tensors</i>, so that data can be referenced by its index in the matrix or tensor.</li>\n",
    "</ul>\n",
    "\n",
    "A list can contain elements of different types, but an array can only have elements with the same type. Arrays are most commonly created using the `numpy` (pronounced num-pie) package. A <b>variable</b> is a symbolic name used to store an object. To create a variable, simply assign an object to a name.\n",
    "\n",
    "Lists are set off by brackets and dictionaries with braces."
   ]
  },
  {
   "cell_type": "code",
   "execution_count": 19,
   "id": "5120bde6-d12f-4bea-85fa-3319fc3e234c",
   "metadata": {},
   "outputs": [],
   "source": [
    "my_list = [1, 2, 'apple', False]"
   ]
  },
  {
   "cell_type": "markdown",
   "id": "ae515979-f5bd-4d1f-acf5-c54eb3046c70",
   "metadata": {},
   "source": [
    "Here, I have created a list with multiple data types. We can call the `type()` function on it."
   ]
  },
  {
   "cell_type": "code",
   "execution_count": 20,
   "id": "2b9be0d9-1cc3-4f8d-bda3-b60d02fc9607",
   "metadata": {},
   "outputs": [
    {
     "data": {
      "text/plain": [
       "list"
      ]
     },
     "execution_count": 20,
     "metadata": {},
     "output_type": "execute_result"
    }
   ],
   "source": [
    "type(my_list)"
   ]
  },
  {
   "cell_type": "markdown",
   "id": "2e5a3bfe-6c51-48d8-ad64-232e57839683",
   "metadata": {},
   "source": [
    "To create a numpy array, first import the numpy package, then create the array. Most people assign the `numpy` package to the short form `np`."
   ]
  },
  {
   "cell_type": "code",
   "execution_count": 22,
   "id": "1e24d823-7109-4021-9d91-46a9090835c1",
   "metadata": {},
   "outputs": [
    {
     "data": {
      "text/plain": [
       "numpy.ndarray"
      ]
     },
     "execution_count": 22,
     "metadata": {},
     "output_type": "execute_result"
    }
   ],
   "source": [
    "# first import the package\n",
    "import numpy as np\n",
    "\n",
    "# next, create an array and assign it to a variable\n",
    "my_array = np.array([1, 2, 3])\n",
    "type(my_array)"
   ]
  },
  {
   "cell_type": "markdown",
   "id": "249cf6b7-d3e9-4774-a007-6fed1b569410",
   "metadata": {},
   "source": []
  },
  {
   "cell_type": "markdown",
   "id": "c0bc0238-7c2a-4ecb-bb74-d0299d6310b0",
   "metadata": {},
   "source": [
    "A dictionary is a set of pairs of data in a lookup table."
   ]
  },
  {
   "cell_type": "markdown",
   "id": "3299387a-4d63-4b1d-be00-0d106de4f7cb",
   "metadata": {},
   "source": [
    "## Indexing"
   ]
  },
  {
   "cell_type": "code",
   "execution_count": null,
   "id": "58e608da-9090-405a-9e23-d0c1537e1a25",
   "metadata": {},
   "outputs": [],
   "source": []
  },
  {
   "cell_type": "code",
   "execution_count": null,
   "id": "dc86d17c-d51d-4f6a-bcbc-98ea7bf6919c",
   "metadata": {},
   "outputs": [],
   "source": []
  },
  {
   "cell_type": "markdown",
   "id": "377e6caa-9e73-4cbd-8dfa-b64efa76eef6",
   "metadata": {},
   "source": [
    "## Loops and Functions"
   ]
  },
  {
   "cell_type": "code",
   "execution_count": null,
   "id": "f2751fa4-c062-43b2-b24b-864910ffadc6",
   "metadata": {},
   "outputs": [],
   "source": []
  }
 ],
 "metadata": {
  "kernelspec": {
   "display_name": "Python 3 (ipykernel)",
   "language": "python",
   "name": "python3"
  },
  "language_info": {
   "codemirror_mode": {
    "name": "ipython",
    "version": 3
   },
   "file_extension": ".py",
   "mimetype": "text/x-python",
   "name": "python",
   "nbconvert_exporter": "python",
   "pygments_lexer": "ipython3",
   "version": "3.8.12"
  }
 },
 "nbformat": 4,
 "nbformat_minor": 5
}
