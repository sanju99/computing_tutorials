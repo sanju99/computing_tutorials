{
 "cells": [
  {
   "cell_type": "markdown",
   "id": "c86b6607-1791-470e-826b-9ac24bf82e08",
   "metadata": {},
   "source": [
    "# T03: Variables, Iterators, and Functions"
   ]
  },
  {
   "cell_type": "code",
   "execution_count": null,
   "id": "6d13b214-a121-48a3-b036-f004a09d50d3",
   "metadata": {},
   "outputs": [],
   "source": []
  },
  {
   "cell_type": "code",
   "execution_count": null,
   "id": "fc9ea921-8dd9-4bc2-8141-d76fee810139",
   "metadata": {},
   "outputs": [],
   "source": []
  }
 ],
 "metadata": {
  "kernelspec": {
   "display_name": "Python 3 (ipykernel)",
   "language": "python",
   "name": "python3"
  },
  "language_info": {
   "codemirror_mode": {
    "name": "ipython",
    "version": 3
   },
   "file_extension": ".py",
   "mimetype": "text/x-python",
   "name": "python",
   "nbconvert_exporter": "python",
   "pygments_lexer": "ipython3",
   "version": "3.8.12"
  }
 },
 "nbformat": 4,
 "nbformat_minor": 5
}
