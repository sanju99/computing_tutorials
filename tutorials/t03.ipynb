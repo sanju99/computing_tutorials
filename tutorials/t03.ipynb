{
 "cells": [
  {
   "cell_type": "markdown",
   "id": "c86b6607-1791-470e-826b-9ac24bf82e08",
   "metadata": {},
   "source": [
    "# T03: Variables, Iterators, and Functions\n",
    "\n",
    "## Variables"
   ]
  },
  {
   "cell_type": "markdown",
   "id": "bb93f4be-a36e-4bd9-a1e8-5fdff1516f78",
   "metadata": {},
   "source": [
    "We briefly saw variables in the previous tutorial, but will explore them in greater detail here. Variable declaration in Python is very easy. To declare a variable, simply use the `=` symbol. The numerical or string value of the variable is then stored and can be used over and over instead of writing out the full value. "
   ]
  },
  {
   "cell_type": "code",
   "execution_count": 2,
   "id": "6169aef9-79da-4ccf-a8d9-becba1c4a331",
   "metadata": {},
   "outputs": [
    {
     "data": {
      "text/plain": [
       "9"
      ]
     },
     "execution_count": 2,
     "metadata": {},
     "output_type": "execute_result"
    }
   ],
   "source": [
    "# make a variable called a with the value 3\n",
    "a = 3\n",
    "\n",
    "# show that a * 3 is the same as 3 * 3\n",
    "a * 3"
   ]
  },
  {
   "cell_type": "markdown",
   "id": "e327c92d-51be-4c95-8764-ca282ccea3fb",
   "metadata": {},
   "source": [
    "## Operation Assignments\n",
    "\n",
    "In addition to the operations above, we can assign existing variables to new values using operations. This syntax is the mathematical symbol followed by an equals sign. We have the variable a, which is equal to 3. We can change it as follows:"
   ]
  },
  {
   "cell_type": "code",
   "execution_count": 3,
   "id": "c38612b2-9147-4b67-9d0b-8fdad91d00a6",
   "metadata": {},
   "outputs": [
    {
     "data": {
      "text/plain": [
       "12"
      ]
     },
     "execution_count": 3,
     "metadata": {},
     "output_type": "execute_result"
    }
   ],
   "source": [
    "# make a = a * 4\n",
    "a *= 4\n",
    "a"
   ]
  },
  {
   "cell_type": "markdown",
   "id": "879ee1d6-67ec-4d13-8c9d-28768c8f9402",
   "metadata": {},
   "source": [
    "Now, `a = 12`. We can do the same thing with the other 5 operations listed above, including modulo. Try it for yourself!\n",
    "\n",
    "The above code produces the same output as `a = a * 4`, but it is a bit cleaner with an operation assignment, which combines both steps."
   ]
  },
  {
   "cell_type": "markdown",
   "id": "bf1142fa-37ce-436d-a2a9-1646db6ab020",
   "metadata": {},
   "source": [
    "## Naming Conventions\n",
    "\n",
    "One thing to keep in mind about Python is that file names and labels are best WITHOUT spaces. On the command line and when slicing dictionaries and dataframes (discussed later), a name with spaces must be enclosed in quotation marks to keep the characters together. \n",
    "\n",
    "Variable names must be written in <b>snake case</b> or <b>camel case</b>. In snake case, different words in a variable name are separated by underscores. In camel case, the second and subsequent words should be capitalized to show where individual words start and end.\n",
    "\n",
    "Variable names should be somewhat descriptive so that another user does not get lost in a bunch of confusing variable names like `a`, `b`, `c`, etc. I used these above because they were dummy variables, but if you want to store values like means, ranges, titles, etc., it is best to choose something that signals to users (including your future self re-reading old code) what the variable is storing. Here are some examples:"
   ]
  },
  {
   "cell_type": "code",
   "execution_count": 1,
   "id": "fc9ea921-8dd9-4bc2-8141-d76fee810139",
   "metadata": {},
   "outputs": [],
   "source": [
    "# good variable name -- snake case\n",
    "# we can tell that the variable is storing the average length of some type of flower\n",
    "mean_flower_length = 10\n",
    "\n",
    "# bad variable name\n",
    "length = 10\n",
    "\n",
    "# also good variable name -- camel case\n",
    "meanFlowerLength = 10"
   ]
  },
  {
   "cell_type": "markdown",
   "id": "8e1bfe2e-3be3-43be-ad50-583c82b584e4",
   "metadata": {},
   "source": [
    "There are some Python functions and keywords that might look like they make good variable names. Some common ones are\n",
    "\n",
    "1. `len` = length of a data structure\n",
    "2. `str` = string type\n",
    "3. `int` = integer type\n",
    "4. `lambda` = used to define functions without a name\n",
    "5. `iter` = iterates through a data structure\n",
    "\n",
    "When you type these in a cell, the editor colors the text green, signaling a function. DO NOT MAKE VARIABLES WITH THESE NAMES, otherwise the Python interpreter will throw an error.  "
   ]
  },
  {
   "cell_type": "markdown",
   "id": "50ed2ad8-d403-4291-a521-20d397272e3c",
   "metadata": {},
   "source": [
    "## Loops\n",
    "\n",
    "Loops are blocks of code that get repeated a fixed number of times. The two types of loops in Python programming are <b>for</b> and <b>while</b> loops. \n",
    "\n",
    "For loops iterate through a defined range, and while loops continue while a certain condition is met. \n",
    "\n",
    "We can use the `range` function in Python to demonstrate loop behavior. This function returns numbers from 0 to N-1, so `range(10)` gives numbers from 0 to 9, as printed in the for loop below."
   ]
  },
  {
   "cell_type": "code",
   "execution_count": 4,
   "id": "478311e7-77d5-4fe0-8e69-9f901f981628",
   "metadata": {},
   "outputs": [
    {
     "name": "stdout",
     "output_type": "stream",
     "text": [
      "0\n",
      "1\n",
      "2\n",
      "3\n",
      "4\n",
      "5\n",
      "6\n",
      "7\n",
      "8\n",
      "9\n"
     ]
    }
   ],
   "source": [
    "# iterate through the number 10\n",
    "for num in range(10):\n",
    "    print(num)"
   ]
  },
  {
   "cell_type": "markdown",
   "id": "d9fe84b8-4e89-45ee-8f03-a63e095a934f",
   "metadata": {},
   "source": [
    "The variable `num` is used as the iterating variable. At each iteration, its value is updated to the next integer. If you print out `num`, you will see that its value is now the last number in the iteration. "
   ]
  },
  {
   "cell_type": "code",
   "execution_count": 5,
   "id": "0f8b7493-99f1-4b75-97ae-b65dd0e841e5",
   "metadata": {},
   "outputs": [
    {
     "data": {
      "text/plain": [
       "9"
      ]
     },
     "execution_count": 5,
     "metadata": {},
     "output_type": "execute_result"
    }
   ],
   "source": [
    "num"
   ]
  },
  {
   "cell_type": "markdown",
   "id": "0c211ae0-bf5d-49b8-9a92-5312160e7370",
   "metadata": {},
   "source": [
    "We typically run while loops with counters or with a changing condition until the condition reaches the end point for the while loop. "
   ]
  },
  {
   "cell_type": "code",
   "execution_count": 7,
   "id": "7050788f-8e03-4bfc-b950-f01938aeb744",
   "metadata": {},
   "outputs": [
    {
     "name": "stdout",
     "output_type": "stream",
     "text": [
      "This is iteration 1\n",
      "This is iteration 2\n",
      "This is iteration 3\n",
      "This is iteration 4\n",
      "This is iteration 5\n",
      "This is iteration 6\n",
      "This is iteration 7\n",
      "This is iteration 8\n",
      "This is iteration 9\n",
      "This is iteration 10\n"
     ]
    }
   ],
   "source": [
    "counter = 0\n",
    "\n",
    "while counter < 10:\n",
    "    \n",
    "    # print a progress message\n",
    "    print(f\"This is iteration {counter + 1}\")\n",
    "    \n",
    "    # increase the counter variable by 1\n",
    "    counter += 1"
   ]
  },
  {
   "cell_type": "markdown",
   "id": "47164d79-0034-4dbd-ae16-b2cc894fb81c",
   "metadata": {},
   "source": [
    "The `fprint` function allows us to pass a variable into a string. A similar function is found in many programming languages and does a similar thing. We set off the variable using brackets so that we can update the message as the number changes. During each iteration, we use an operator assignment to increase the value of the `counter` variable. \n",
    "\n",
    "**Beware:** `while` loops can be tricky because if you're not careful, you can end up with an infinite loop. For example, if I forgot to increment `counter` inside the indented block, counter would always be 0, and the loop would keep executing because the condition of less than 10 is always met."
   ]
  },
  {
   "cell_type": "markdown",
   "id": "985bcc96-cc14-47c6-aebe-0d788fdbab15",
   "metadata": {},
   "source": [
    "## Functions\n",
    "\n",
    "Functions are a set of grouped commands that can be repeated without copying and pasting the same code. If you find yourself doing the same steps on different inputs, it is a perfect time to write a function. Functions in Python are defined with the following syntax:"
   ]
  },
  {
   "cell_type": "code",
   "execution_count": 8,
   "id": "8a78a352-d83e-4c42-b519-db9f598ecfbe",
   "metadata": {},
   "outputs": [],
   "source": [
    "def my_function(x):\n",
    "    \n",
    "    # do some steps\n",
    "    y = x + 10\n",
    "    \n",
    "    z = y - 34\n",
    "    \n",
    "    # return the output\n",
    "    return z"
   ]
  },
  {
   "cell_type": "markdown",
   "id": "12d83c9e-8280-4f96-95bb-87fbf0e3379a",
   "metadata": {},
   "source": [
    "It begins with a function definition and then the name of the function. Inside parentheses are the <b>arguments</b>. A function can take anywhere from 0 to many arguments. It can also return nothing, a list/tuple of many things, single value, dataframe, plot, or any other Python object. <b>All of the code of a function, including the return statement, must be indented.</b>\n",
    "\n",
    "It is good to write <b>docstrings</b> for functions that you write. Docstrings are located at the top of a function and are set off by triple quotes. Docstrings provide information on how to use a function, similar to Python documentation. If your function has a docstring, then calling `my_function?` will show it. This is very helpful for learning how to use functions imported from external packages. "
   ]
  },
  {
   "cell_type": "code",
   "execution_count": 9,
   "id": "3289aea3-9baa-43fc-819d-7441c21f21f5",
   "metadata": {},
   "outputs": [
    {
     "data": {
      "text/plain": [
       "-20"
      ]
     },
     "execution_count": 9,
     "metadata": {},
     "output_type": "execute_result"
    }
   ],
   "source": [
    "my_function(4)"
   ]
  },
  {
   "cell_type": "code",
   "execution_count": 10,
   "id": "cb607492-bfa2-4278-867a-0fec7d7b0c52",
   "metadata": {},
   "outputs": [],
   "source": [
    "def function_with_docstring(x, y):\n",
    "    '''\n",
    "    This function sums the two arguments and then returns modulo 2 of the sum. \n",
    "    \n",
    "    Arguments:\n",
    "        2 integers or floats\n",
    "    Returns:\n",
    "        sum modulo 2\n",
    "    '''\n",
    "    z = x + y\n",
    "    \n",
    "    return z % 2"
   ]
  },
  {
   "cell_type": "code",
   "execution_count": 12,
   "id": "72038bc0-aae6-4295-8cbf-7215d32d7d90",
   "metadata": {},
   "outputs": [
    {
     "data": {
      "text/plain": [
       "\u001b[0;31mSignature:\u001b[0m \u001b[0mfunction_with_docstring\u001b[0m\u001b[0;34m(\u001b[0m\u001b[0mx\u001b[0m\u001b[0;34m,\u001b[0m \u001b[0my\u001b[0m\u001b[0;34m)\u001b[0m\u001b[0;34m\u001b[0m\u001b[0;34m\u001b[0m\u001b[0m\n",
       "\u001b[0;31mDocstring:\u001b[0m\n",
       "This function sums the two arguments and then returns modulo 2 of the sum. \n",
       "\n",
       "Arguments:\n",
       "    2 integers or floats\n",
       "Returns:\n",
       "    sum modulo 2\n",
       "\u001b[0;31mFile:\u001b[0m      /var/folders/mm/bx_h3x157735lh27_3pyt4km0000gn/T/ipykernel_4961/2338220398.py\n",
       "\u001b[0;31mType:\u001b[0m      function\n"
      ]
     },
     "metadata": {},
     "output_type": "display_data"
    }
   ],
   "source": [
    "# show the docstring\n",
    "function_with_docstring?"
   ]
  },
  {
   "cell_type": "markdown",
   "id": "71447398-9588-47e9-af60-a95ed669ce9e",
   "metadata": {},
   "source": [
    "## Arguments and Keyword Arguments"
   ]
  },
  {
   "cell_type": "markdown",
   "id": "3cab3522-4c37-403c-946a-2efbb04930db",
   "metadata": {},
   "source": [
    "## Exercises:\n",
    "\n",
    "1. Write a function that returns the reverse complement of a DNA sequence"
   ]
  },
  {
   "cell_type": "code",
   "execution_count": null,
   "id": "8d06bf98-df43-4b02-a08d-f22ceaef3519",
   "metadata": {},
   "outputs": [],
   "source": []
  }
 ],
 "metadata": {
  "kernelspec": {
   "display_name": "Python 3 (ipykernel)",
   "language": "python",
   "name": "python3"
  },
  "language_info": {
   "codemirror_mode": {
    "name": "ipython",
    "version": 3
   },
   "file_extension": ".py",
   "mimetype": "text/x-python",
   "name": "python",
   "nbconvert_exporter": "python",
   "pygments_lexer": "ipython3",
   "version": "3.8.12"
  }
 },
 "nbformat": 4,
 "nbformat_minor": 5
}
