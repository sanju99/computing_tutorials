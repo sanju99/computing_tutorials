{
 "cells": [
  {
   "cell_type": "markdown",
   "id": "3bd1c8e5-4ab3-4bf2-914d-5d8e34880ce4",
   "metadata": {},
   "source": [
    "# T03: Dataframe Manipulation\n",
    "\n",
    "## Dataframes\n",
    "\n",
    "Dataframes are tables that represent data in an easy-to-read two-dimensional format. They are used in both Python and R and are incredibly useful to scientists. In Python, dataframes are manipulated using a package called `pandas`, which is imported like any other package."
   ]
  },
  {
   "cell_type": "code",
   "execution_count": 1,
   "id": "b4906b71-e12e-4e7d-ab80-ca0750b63be2",
   "metadata": {},
   "outputs": [],
   "source": [
    "import pandas as pd\n",
    "import numpy as np"
   ]
  },
  {
   "cell_type": "markdown",
   "id": "67cf3013-24e1-486c-89db-a7b970c4f2fe",
   "metadata": {},
   "source": [
    "From there, we can create and modify dataframes with functions from the package. Let’s start by reading in a dataset and doing some basic manipulations. This will also require `numpy` functions, so make sure this package is also installed, like above.\n",
    "\n",
    "Pandas can read in data in many formats – comma-separated (CSV), tab-separated (TSV), Excel, XML, etc. The most common ones you will use are probably CSV and Excel. Make sure you have the most up to date version of `pandas` because the `read_excel` file was added recently."
   ]
  },
  {
   "cell_type": "markdown",
   "id": "17395971-1883-41b1-8dcc-ad419c572414",
   "metadata": {},
   "source": [
    "## Note on Import Statements\n",
    "\n",
    "It is generally a good practice to keep all import statements in a separate cell at the top of a script or Jupyter Notebook. This way, you can check that everything you need is imported before running your analyses. \n",
    "\n",
    "The standard abbreviations (i.e. `np` for `numpy` and `pd` for `pandas`) are used by most Python programmers. It's not necessary to use them, but code is cleaner: `np.array` vs `numpy.array`."
   ]
  },
  {
   "cell_type": "code",
   "execution_count": null,
   "id": "b32d7a6f-dea6-4ef8-b4f7-1e24117ebddb",
   "metadata": {},
   "outputs": [],
   "source": []
  }
 ],
 "metadata": {
  "kernelspec": {
   "display_name": "Python 3 (ipykernel)",
   "language": "python",
   "name": "python3"
  },
  "language_info": {
   "codemirror_mode": {
    "name": "ipython",
    "version": 3
   },
   "file_extension": ".py",
   "mimetype": "text/x-python",
   "name": "python",
   "nbconvert_exporter": "python",
   "pygments_lexer": "ipython3",
   "version": "3.8.12"
  }
 },
 "nbformat": 4,
 "nbformat_minor": 5
}
